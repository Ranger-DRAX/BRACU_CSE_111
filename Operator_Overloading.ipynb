{
  "nbformat": 4,
  "nbformat_minor": 0,
  "metadata": {
    "colab": {
      "provenance": []
    },
    "kernelspec": {
      "name": "python3",
      "display_name": "Python 3"
    },
    "language_info": {
      "name": "python"
    }
  },
  "cells": [
    {
      "cell_type": "code",
      "execution_count": null,
      "metadata": {
        "colab": {
          "base_uri": "https://localhost:8080/"
        },
        "id": "dA3ZLdxNnTUJ",
        "outputId": "98de16bf-9423-4316-9b25-d0676f693c08"
      },
      "outputs": [
        {
          "output_type": "stream",
          "name": "stdout",
          "text": [
            "The result is 10\n",
            "CSE111TurtlePeople\n",
            "The result is 0.041666666666666664\n"
          ]
        }
      ],
      "source": [
        "class Data:\n",
        "  def __init__(self, x):\n",
        "    self.value = x\n",
        "  \n",
        "  # def view(self):\n",
        "  #   print(f\"The result is : {self.value}\")\n",
        "\n",
        "  def __repr__(self):\n",
        "    return f\"The result is {self.value}\"\n",
        "\n",
        "  def __add__(self, other):\n",
        "    return type(self) (self.value + other.value)\n",
        "\n",
        "  def __truediv__(self, other):\n",
        "    return type(self) (self.value / other.value)\n",
        "\n",
        "  def __floordiv__(self, other):\n",
        "    return type(self) (self.value // other.value)\n",
        "\n",
        "d1 = Data(1)\n",
        "d2 = Data(2)\n",
        "d3 = Data(3)\n",
        "d4 = Data(4)\n",
        "\n",
        "\n",
        "addition_res1 = d1 + d2 + d3 + d4\n",
        "addtion_res1 = Data(d1+d2+d3+d4)\n",
        "print(addition_res1)\n",
        "\n",
        "\n",
        "d7 = Data(\"CSE\")\n",
        "d8 = Data(\"111\")\n",
        "d9 = Data(\"Turtle\")\n",
        "d10 = Data(\"People\")\n",
        "\n",
        "addition_res2 = d7 + d8 + d9 + d10\n",
        "print(addition_res2.value)\n",
        "\n",
        "\n",
        "division_res3 = d1 / d2 / d3 / d4\n",
        "print(division_res3)\n",
        "\n",
        "\n",
        "# USEFUL LINK\n",
        "# Safe Operation with Multiple operands:  https://stackoverflow.com/a/39513296/8622023\n",
        "\n",
        "# reverse addition: https://www.reddit.com/r/learnpython/comments/3cvgpi/can_someone_explain_radd_to_me_in_simple_terms_i/?utm_source=share&utm_medium=web2x&context=3"
      ]
    }
  ]
}