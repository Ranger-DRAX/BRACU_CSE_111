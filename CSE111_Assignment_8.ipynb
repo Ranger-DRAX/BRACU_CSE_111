{
  "nbformat": 4,
  "nbformat_minor": 0,
  "metadata": {
    "colab": {
      "name": "CSE111_Assignment_8.ipynb",
      "provenance": []
    },
    "kernelspec": {
      "name": "python3",
      "display_name": "Python 3"
    },
    "language_info": {
      "name": "python"
    }
  },
  "cells": [
    {
      "cell_type": "code",
      "execution_count": null,
      "metadata": {
        "colab": {
          "base_uri": "https://localhost:8080/"
        },
        "id": "aYf8Rbso5OIB",
        "outputId": "a0176b7e-3d69-40fd-b202-2a10b7da2f01"
      },
      "outputs": [
        {
          "output_type": "stream",
          "name": "stdout",
          "text": [
            "RealPart: 1.0\n",
            "ImaginaryPart: 1.0\n",
            "---------\n",
            "RealPart: 5.0\n",
            "ImaginaryPart: 7.0\n"
          ]
        }
      ],
      "source": [
        "#task_1\n",
        "class RealNumber:\n",
        "\n",
        "    def __init__(self, r=0):\n",
        "        self.__realValue = r\n",
        "\n",
        "    def getRealValue(self):\n",
        "        return self.__realValue\n",
        "\n",
        "    def setRealValue(self, r):\n",
        "        self.__realValue = r\n",
        "\n",
        "    def __str__(self):\n",
        "        return 'RealPart: ' + str(self.getRealValue())\n",
        "class ComplexNumber(RealNumber):\n",
        "    def __init__(self,r=1,i=1):\n",
        "        super(ComplexNumber,self).__init__(r)\n",
        "        self.real=r\n",
        "        self.imagine=i\n",
        "    def __str__(self):\n",
        "        #result='RealPart: '+str(float(self.real)),'\\nImaginaryPart:',str(float(self.imagine))\n",
        "        #return result\n",
        "        return 'RealPart: ' + str(float(self.real)) + '\\n' + 'ImaginaryPart: ' + str(float(self.imagine))\n",
        "\n",
        "cn1 = ComplexNumber()\n",
        "print(cn1)\n",
        "print('---------')\n",
        "cn2 = ComplexNumber(5,7)\n",
        "print(cn2)\n"
      ]
    },
    {
      "cell_type": "code",
      "source": [
        "#task_02\n",
        "class RealNumber:\n",
        "    def __init__(self, number=0):\n",
        "        self.number = number\n",
        "    def __add__(self, anotherRealNumber):\n",
        "        return self.number + anotherRealNumber.number\n",
        "    def __sub__(self, anotherRealNumber):\n",
        "        return self.number - anotherRealNumber.number\n",
        "    def __str__(self):\n",
        "        return str(self.number)\n",
        "class ComplexNumber(RealNumber):\n",
        "    def __init__(self,r,i):\n",
        "        r=int(str(r))\n",
        "        super(ComplexNumber, self).__init__(r)\n",
        "        self.i=i\n",
        "    def __add__(self, anothercomplexNumber):\n",
        "        temp=super().__add__(anothercomplexNumber)\n",
        "        x=self.i+anothercomplexNumber.i\n",
        "        return str(temp)+'+'+str(x)+'i'\n",
        "    def __sub__(self, anothercomplexNumber):\n",
        "        temp = super().__sub__(anothercomplexNumber)\n",
        "        x = self.i - anothercomplexNumber.i\n",
        "        return str(temp) + str(x) + 'i'\n",
        "    def __str__(self):\n",
        "        return super().__str__()+'+'+str(self.i)+'i'\n",
        "r1 = RealNumber(3)\n",
        "r2 = RealNumber(5)\n",
        "print(r1+r2)\n",
        "cn1 = ComplexNumber(2, 1)\n",
        "print(cn1)\n",
        "cn2 = ComplexNumber(r1, 5)\n",
        "print(cn2)\n",
        "cn3 = cn1 + cn2\n",
        "print(cn3)\n",
        "cn4 = cn1 - cn2\n",
        "print(cn4"
      ],
      "metadata": {
        "id": "1Y1OJM5R-pT3",
        "colab": {
          "base_uri": "https://localhost:8080/",
          "height": 130
        },
        "outputId": "b92cf5a2-26c1-41c6-d411-9c807f3e9373"
      },
      "execution_count": 4,
      "outputs": [
        {
          "output_type": "error",
          "ename": "SyntaxError",
          "evalue": "ignored",
          "traceback": [
            "\u001b[0;36m  File \u001b[0;32m\"<ipython-input-4-c49b695ba7b3>\"\u001b[0;36m, line \u001b[0;32m36\u001b[0m\n\u001b[0;31m    print(cn4\u001b[0m\n\u001b[0m             ^\u001b[0m\n\u001b[0;31mSyntaxError\u001b[0m\u001b[0;31m:\u001b[0m unexpected EOF while parsing\n"
          ]
        }
      ]
    },
    {
      "cell_type": "code",
      "source": [
        "#task_3\n",
        "class Account:\n",
        "    def __init__(self, balance):\n",
        "        self._balance = balance\n",
        "\n",
        "    def getBalance(self):\n",
        "        return self._balance\n",
        "class CheckingAccount(Account):\n",
        "    numberOfAccount=0\n",
        "    def __init__(self,num=0.0):\n",
        "        super(CheckingAccount, self).__init__(num)\n",
        "        self.num=num\n",
        "        CheckingAccount.numberOfAccount+=1\n",
        "\n",
        "    def __str__(self):\n",
        "        k=Account.getBalance(self)\n",
        "        return f\"Account Ballance:{k}\"\n",
        "        #return f\"Account Ballance:{self.num}\"\n",
        "\n",
        "print('Number of Checking Accounts: ', CheckingAccount.numberOfAccount)\n",
        "print(CheckingAccount())\n",
        "print(CheckingAccount(100.00))\n",
        "print(CheckingAccount(200.00))\n",
        "print('Number of Checking Accounts: ', CheckingAccount.numberOfAccount)"
      ],
      "metadata": {
        "colab": {
          "base_uri": "https://localhost:8080/"
        },
        "id": "UBwmiABs-pWW",
        "outputId": "b4171953-5054-403c-eeec-0b84f6991575"
      },
      "execution_count": 5,
      "outputs": [
        {
          "output_type": "stream",
          "name": "stdout",
          "text": [
            "Number of Checking Accounts:  0\n",
            "Account Ballance:0.0\n",
            "Account Ballance:100.0\n",
            "Account Ballance:200.0\n",
            "Number of Checking Accounts:  3\n"
          ]
        }
      ]
    },
    {
      "cell_type": "code",
      "source": [
        "#task_4\n",
        "class Fruit:\n",
        "    def __init__(self, formalin=False, name=''):\n",
        "        self.__formalin = formalin\n",
        "        self.name = name\n",
        "\n",
        "    def getName(self):\n",
        "        return self.name\n",
        "\n",
        "    def hasFormalin(self):\n",
        "        return self.__formalin\n",
        "class testFruit:\n",
        "    def test(self, f):\n",
        "        print('----Printing Detail----')\n",
        "        if f.hasFormalin():\n",
        "            print('Do not eat the', f.getName(), '.')\n",
        "            print(f)\n",
        "        else:\n",
        "            print('Eat the', f.getName(), '.')\n",
        "            print(f)\n",
        "class Mango(Fruit):\n",
        "    def __init__(self,a=True):\n",
        "        super(Mango, self).__init__(a,name = 'Mango')\n",
        "        self.name = 'Mango'\n",
        "    def __str__(self):\n",
        "        return f\"{self.name}s are bad for you\"\n",
        "class Jackfruit(Fruit):\n",
        "    def __init__(self, a=False):\n",
        "        super(Jackfruit, self).__init__(a,name='Jackfruit')\n",
        "    def __str__(self):\n",
        "        return f\"Jackfruit are good for you\"\n",
        "m = Mango()\n",
        "j = Jackfruit()\n",
        "t1 = testFruit()\n",
        "t1.test(m)\n",
        "t1.test(j)\n"
      ],
      "metadata": {
        "colab": {
          "base_uri": "https://localhost:8080/"
        },
        "id": "yrmuqBCZ3FMS",
        "outputId": "a2547984-76e7-4cb1-c495-4e77449135bf"
      },
      "execution_count": 6,
      "outputs": [
        {
          "output_type": "stream",
          "name": "stdout",
          "text": [
            "----Printing Detail----\n",
            "Do not eat the Mango .\n",
            "Mangos are bad for you\n",
            "----Printing Detail----\n",
            "Eat the Jackfruit .\n",
            "Jackfruit are good for you\n"
          ]
        }
      ]
    },
    {
      "cell_type": "code",
      "source": [
        "#task_5\n",
        "class Exam:\n",
        "    def __init__(self, marks):\n",
        "        self.marks = marks\n",
        "        self.time = 60\n",
        "\n",
        "    def examSyllabus(self):\n",
        "        return \"Maths , English\"\n",
        "\n",
        "    def examParts(self):\n",
        "        return \"Part 1 - Maths\\nPart 2 - English\\n\"\n",
        "class ScienceExam(Exam):\n",
        "    def __init__(self,*list):\n",
        "        super(ScienceExam, self).__init__(list[0])\n",
        "        self.d=[]\n",
        "        if len(list)==4:\n",
        "            self.marks=list[0]\n",
        "            self.time=list[1]\n",
        "            self.d.append(list[2])\n",
        "            self.d.append(list[3])\n",
        "        else:\n",
        "            self.marks = list[0]\n",
        "            self.time = list[1]\n",
        "            self.d.append(list[2])\n",
        "            self.d.append(list[3])\n",
        "            self.d.append(list[4])\n",
        "    def __str__(self):\n",
        "        return f\"Marks:{self.marks} Time:{self.time} minutes Number of parts: {len(self.d)+2}\"\n",
        "    def  examSyllabus(self):\n",
        "        r=Exam.examSyllabus(self)\n",
        "        for x in self.d:\n",
        "            r+=','+x\n",
        "        return r\n",
        "    def examParts(self):\n",
        "        a=Exam.examParts(self)\n",
        "        for x in self.d:\n",
        "            a+=f\"Part {self.d.index(x)+3}-{x}\\n\"\n",
        "        return a\n",
        "engineering = ScienceExam(100,90,\"Physics\",\"HigherMaths\")\n",
        "print(engineering)\n",
        "print('----------------------------------')\n",
        "print(engineering.examSyllabus())\n",
        "print(engineering.examParts())\n",
        "print('==================================')\n",
        "architecture = ScienceExam(100,120,\"Physics\",\"HigherMaths\",\"Drawing\")\n",
        "print(architecture)\n",
        "print('----------------------------------')\n",
        "print(architecture.examSyllabus())\n",
        "print(architecture.examParts())"
      ],
      "metadata": {
        "colab": {
          "base_uri": "https://localhost:8080/"
        },
        "id": "m-pdpZqIeTFF",
        "outputId": "cd0adf7d-2246-4cfa-e83f-9e4e3e08645c"
      },
      "execution_count": 7,
      "outputs": [
        {
          "output_type": "stream",
          "name": "stdout",
          "text": [
            "Marks:100 Time:90 minutes Number of parts: 4\n",
            "----------------------------------\n",
            "Maths , English,Physics,HigherMaths\n",
            "Part 1 - Maths\n",
            "Part 2 - English\n",
            "Part 3-Physics\n",
            "Part 4-HigherMaths\n",
            "\n",
            "==================================\n",
            "Marks:100 Time:120 minutes Number of parts: 5\n",
            "----------------------------------\n",
            "Maths , English,Physics,HigherMaths,Drawing\n",
            "Part 1 - Maths\n",
            "Part 2 - English\n",
            "Part 3-Physics\n",
            "Part 4-HigherMaths\n",
            "Part 5-Drawing\n",
            "\n"
          ]
        }
      ]
    },
    {
      "cell_type": "code",
      "source": [
        "#task_6\n",
        "class Shape3D:\n",
        "\n",
        "  pi = 3.14159\n",
        "  def __init__(self, name = 'Default', radius = 0):\n",
        "    self._area = 0\n",
        "    self._name = name\n",
        "    self._height = 'No need'\n",
        "    self._radius = radius\n",
        "\n",
        "  def calc_surface_area(self):\n",
        "    return 2 * Shape3D.pi * self._radius\n",
        "\n",
        "  def __str__(self):\n",
        "      return \"Radius: \"+str(self._radius)\n",
        "class Sphere(Shape3D):\n",
        "  def __init__(self,name,rad):\n",
        "    super(Sphere, self).__init__(name,rad)\n",
        "    self.name=name\n",
        "    self.radius=rad\n",
        "    self.height='No needed'\n",
        "    print(f\"Shape Name:{self.name}, Area Formula:4 * pi * r * r\")\n",
        "  def calc_surface_area(self):\n",
        "    self._area=4*Shape3D.pi*self.radius**2\n",
        "  def __str__(self):\n",
        "\n",
        "    a=Shape3D.__str__(self)\n",
        "    a+=f\",{self.height}\\n\"\n",
        "    a+=f\"Area:{self._area}\"\n",
        "    return a\n",
        "\n",
        "class Cylinder(Shape3D):\n",
        "  def __init__(self,name,r,h):\n",
        "    super(Cylinder, self).__init__(name,r)\n",
        "    self.name = name\n",
        "    self.radius = r\n",
        "    self.height = h\n",
        "    print(f\"Shape Name:{self.name}, Area Formula: 2 * pi * r * ( r + h )\")\n",
        "  def calc_surface_area(self):\n",
        "    self._area=2*Shape3D.pi*self.radius*(self.radius+self.height)\n",
        "  def __str__(self):\n",
        "    a=Shape3D.__str__(self)\n",
        "    a+=f\",{self.height}\\n\"\n",
        "    a += f\"Area:{self._area}\"\n",
        "    return a\n",
        "\n",
        "\n",
        "\n",
        "\n",
        "\n",
        "sph = Sphere('Sphere', 5)\n",
        "print('----------------------------------')\n",
        "sph.calc_surface_area()\n",
        "print(sph)\n",
        "print('==================================')\n",
        "cyl = Cylinder('Cylinder', 5, 10)\n",
        "print('----------------------------------')\n",
        "cyl.calc_surface_area()\n",
        "print(cyl)\n",
        "\n"
      ],
      "metadata": {
        "colab": {
          "base_uri": "https://localhost:8080/"
        },
        "id": "JdaU7qYceWHB",
        "outputId": "9ceb396c-9389-4761-e59e-c4631f1358a7"
      },
      "execution_count": 8,
      "outputs": [
        {
          "output_type": "stream",
          "name": "stdout",
          "text": [
            "Shape Name:Sphere, Area Formula:4 * pi * r * r\n",
            "----------------------------------\n",
            "Radius: 5,No needed\n",
            "Area:314.159\n",
            "==================================\n",
            "Shape Name:Cylinder, Area Formula: 2 * pi * r * ( r + h )\n",
            "----------------------------------\n",
            "Radius: 5,10\n",
            "Area:471.2385\n"
          ]
        }
      ]
    },
    {
      "cell_type": "code",
      "source": [
        "#Task_7\n",
        "class PokemonBasic:\n",
        "  def __init__(self, name = 'Default', hp = 0, weakness = 'None', type = 'Unknown'):\n",
        "    self.name = name\n",
        "    self.hit_point = hp\n",
        "    self.weakness = weakness\n",
        "    self.type = type\n",
        "  def get_type(self):\n",
        "    return 'Main type: ' + self.type\n",
        "  def get_move(self):\n",
        "    return 'Basic move: ' + 'Quick Attack'\n",
        "  def __str__(self):\n",
        "    return \"Name: \" + self.name + \", HP: \" + str(self.hit_point) + \", Weakness: \" + self.weakness\n",
        "class  PokemonExtra(PokemonBasic):\n",
        "  def __init__(self,n,h,w,t,st='',ot=()):\n",
        "    super(PokemonExtra, self).__init__(n,h,w,t)\n",
        "    self.name=n\n",
        "    self.hit_point=h\n",
        "    self.weakness =w\n",
        "    self.type =t\n",
        "    self.st=st\n",
        "    self.ot=ot\n",
        "  def get_type(self):\n",
        "    if self.st!='':\n",
        "      k=PokemonBasic.get_type(self)\n",
        "      k+=f\",Secondary type:{self.st}\"\n",
        "      return k\n",
        "    else:return PokemonBasic.get_type(self)\n",
        "  def get_move(self):\n",
        "    if   self.ot!=():\n",
        "      k=PokemonBasic.get_move(self)\n",
        "      a,b=self.ot[0],self.ot[1]\n",
        "      k+=f\"\\nOther move: {a},{b}\"\n",
        "      return k\n",
        "    else:return  PokemonBasic.get_move(self)\n",
        "print('\\n------------Basic Info:--------------')\n",
        "pk = PokemonBasic()\n",
        "print(pk)\n",
        "print(pk.get_type())\n",
        "print(pk.get_move())\n",
        "\n",
        "print('\\n------------Pokemon 1 Info:-------------')\n",
        "charmander = PokemonExtra('Charmander', 39, 'Water', 'Fire')\n",
        "print(charmander)\n",
        "print(charmander.get_type())\n",
        "print(charmander.get_move())\n",
        "\n",
        "print('\\n------------Pokemon 2 Info:-------------')\n",
        "charizard = PokemonExtra('Charizard', 78, 'Water', 'Fire', 'Flying', ('Fire Spin', 'Fire Blaze'))\n",
        "print(charizard)\n",
        "print(charizard.get_type())\n",
        "print(charizard.get_move())\n"
      ],
      "metadata": {
        "id": "FwBZLDqoFbM4",
        "colab": {
          "base_uri": "https://localhost:8080/"
        },
        "outputId": "2e7ae641-7c27-4995-a414-d2f1175bc696"
      },
      "execution_count": 9,
      "outputs": [
        {
          "output_type": "stream",
          "name": "stdout",
          "text": [
            "\n",
            "------------Basic Info:--------------\n",
            "Name: Default, HP: 0, Weakness: None\n",
            "Main type: Unknown\n",
            "Basic move: Quick Attack\n",
            "\n",
            "------------Pokemon 1 Info:-------------\n",
            "Name: Charmander, HP: 39, Weakness: Water\n",
            "Main type: Fire\n",
            "Basic move: Quick Attack\n",
            "\n",
            "------------Pokemon 2 Info:-------------\n",
            "Name: Charizard, HP: 78, Weakness: Water\n",
            "Main type: Fire,Secondary type:Flying\n",
            "Basic move: Quick Attack\n",
            "Other move: Fire Spin,Fire Blaze\n"
          ]
        }
      ]
    },
    {
      "cell_type": "code",
      "source": [
        "#Task_8\n",
        "class Team:\n",
        "    def __init__(self, name):\n",
        "        self.name = \"default\"\n",
        "        self.total_player = 5\n",
        "    def info(self):\n",
        "        print(\"We love sports\")\n",
        "class FootBallTeam(Team):\n",
        "  def __init__(self,t):\n",
        "    super(FootBallTeam, self).__init__(t)\n",
        "    self.name=t\n",
        "    self.total_player=11\n",
        "  def info(self):\n",
        "    print(f\"Our Name is:{self.name}\")\n",
        "    print(f\"We love Football\")\n",
        "    print('We love Sports')\n",
        "class CricketTeam(Team):\n",
        "  def __init__(self,t):\n",
        "    super(CricketTeam, self).__init__(t)\n",
        "    self.name=t\n",
        "    self.total_player=11\n",
        "  def info(self):\n",
        "    print(f\"Our Name is:{self.name}\")\n",
        "    print(f\"We love Cricket\")\n",
        "    print('We love Sports')\n",
        "class Team_test:\n",
        "  def check(self, tm):\n",
        "    print(\"=========================\")\n",
        "    print(\"Total Player: \", tm.total_player)\n",
        "    tm.info()\n",
        "f = FootBallTeam(\"Brazil\")\n",
        "c = CricketTeam(\"Bangladesh\")\n",
        "test = Team_test()\n",
        "test.check(f)\n",
        "test.check(c)\n"
      ],
      "metadata": {
        "id": "5ox4_iK7FbPw",
        "colab": {
          "base_uri": "https://localhost:8080/"
        },
        "outputId": "eb79da09-8566-4767-922a-ad0a2e24437f"
      },
      "execution_count": 2,
      "outputs": [
        {
          "output_type": "stream",
          "name": "stdout",
          "text": [
            "=========================\n",
            "Total Player:  11\n",
            "Our Name is:Brazil\n",
            "We love Football\n",
            "We love Sports\n",
            "=========================\n",
            "Total Player:  11\n",
            "Our Name is:Bangladesh\n",
            "We love Cricket\n",
            "We love Sports\n"
          ]
        }
      ]
    },
    {
      "cell_type": "code",
      "source": [
        "#Task_9\n",
        "class Pokemon:\n",
        "    def __init__(self, p):\n",
        "        self.pokemon = p\n",
        "        self.pokemon_type = \"Needs to be set\"\n",
        "        self.pokemon_weakness = \"Needs to be set\"\n",
        "\n",
        "    def kind(self):\n",
        "        return self.pokemon_type\n",
        "\n",
        "    def weakness(self):\n",
        "        return self.pokemon_weakness\n",
        "\n",
        "    def what_am_i(self):\n",
        "        print(\"I am a Pokemon.\")\n",
        "class Pikachu(Pokemon):\n",
        "  def __init__(self,p='Pikachu'):\n",
        "    super(Pikachu, self).__init__(p)\n",
        "    self.pokemon=p\n",
        "    self.pokemon_type='Electric'\n",
        "    self.pokemon_weakness=' Ground'\n",
        "  def what_am_i(self):\n",
        "    Pokemon.what_am_i(self)\n",
        "    print(f\"I am a {self.pokemon}.\")\n",
        "\n",
        "class Charmander(Pokemon):\n",
        "  def __init__(self,p='Charmander'):\n",
        "    super(Charmander, self).__init__(p)\n",
        "    self.pokemon=p\n",
        "    self.pokemon_type='Fire'\n",
        "    self.pokemon_weakness='Water, Ground and Rock'\n",
        "  def what_am_i(self):\n",
        "    Pokemon.what_am_i(self)\n",
        "    print(f\"I am a {self.pokemon}.\")\n",
        "\n",
        "\n",
        "\n",
        "\n",
        "pk1 = Pikachu()\n",
        "print(\"Pokemon:\", pk1.pokemon)\n",
        "print(\"Type:\", pk1.kind())\n",
        "print(\"Weakness:\", pk1.weakness())\n",
        "pk1.what_am_i()\n",
        "print(\"========================\")\n",
        "c1 = Charmander()\n",
        "print(\"Pokemon:\", c1.pokemon)\n",
        "print(\"Type:\", c1.kind())\n",
        "print(\"Weakness:\", c1.weakness())\n",
        "c1.what_am_i()\n",
        "\n"
      ],
      "metadata": {
        "colab": {
          "base_uri": "https://localhost:8080/"
        },
        "id": "23p3N_GtCsG4",
        "outputId": "d696bbf5-5c75-4507-e201-76c0495a2c9d"
      },
      "execution_count": null,
      "outputs": [
        {
          "output_type": "stream",
          "name": "stdout",
          "text": [
            "Pokemon: Pikachu\n",
            "Type: Electric\n",
            "Weakness:  Ground\n",
            "I am a Pokemon.\n",
            "I am a Pikachu.\n",
            "========================\n",
            "Pokemon: Charmander\n",
            "Type: Fire\n",
            "Weakness: Water, Ground and Rock\n",
            "I am a Pokemon.\n",
            "I am a Charmander.\n"
          ]
        }
      ]
    },
    {
      "cell_type": "code",
      "source": [
        "#task_10\n",
        "class Department:\n",
        "    def __init__(self, s):\n",
        "        self.semester = s\n",
        "        self.name = \"Default\"\n",
        "        self.id = -1\n",
        "    def student_info(self):\n",
        "        print(\"Name:\", self.name)\n",
        "        print(\"ID:\", self.id)\n",
        "    def courses(self, c1, c2, c3):\n",
        "        print(\"No courses Approved yet!\")\n",
        "class CSE(Department):\n",
        "  def __init__(self,name,id,sem):\n",
        "    super(CSE,self).__init__(sem)\n",
        "    self.name=name\n",
        "    self.id=id\n",
        "    self.sems=sem\n",
        "  def  student_info(self):\n",
        "    k=Department.student_info(self)\n",
        "    return k\n",
        "  def courses(self, c1, c2, c3):\n",
        "\n",
        "    print(f\"Courses Approved to this CSE student in {self.sems}  semester :\")\n",
        "    print(c1)\n",
        "    print(c2)\n",
        "    print(c3)\n",
        "class EEE(Department):\n",
        "  def __init__(self,name,id,sem):\n",
        "    super(EEE,self).__init__(sem)\n",
        "    self.name=name\n",
        "    self.id=id\n",
        "    self.sems=sem\n",
        "  def  student_info(self):\n",
        "    k=Department.student_info(self)\n",
        "    return k\n",
        "  def courses(self, c1, c2, c3):\n",
        "    print(f\"Courses Approved to this EEE student in {self.sems}  semester :\")\n",
        "    print(c1)\n",
        "    print(c2)\n",
        "    print(c3)\n",
        "\n",
        "s1 = CSE(\"Rahim\", 16101328,\"Spring2016\")\n",
        "s1.student_info()\n",
        "s1.courses(\"CSE110\", \"MAT110\", \"ENG101\")\n",
        "print(\"==================\")\n",
        "s2 = EEE(\"Tanzim\", 18101326, \"Spring2018\")\n",
        "s2.student_info()\n",
        "s2.courses(\"Mat110\", \"PHY111\", \"ENG101\")\n",
        "print(\"==================\")\n",
        "s3 = CSE(\"Rudana\", 18101326, \"Fall2017\")\n",
        "s3.student_info()\n",
        "s3.courses(\"CSE111\", \"PHY101\", \"MAT120\")\n",
        "print(\"==================\")\n",
        "s4 = EEE(\"Zainab\", 19201623, \"Summer2019\")\n",
        "s4.student_info()\n",
        "s4.courses(\"EEE201\", \"PHY112\", \"MAT120\")\n"
      ],
      "metadata": {
        "colab": {
          "base_uri": "https://localhost:8080/"
        },
        "id": "bumkexk7eWVr",
        "outputId": "a76d3786-f685-49f3-8679-817b102d57e2"
      },
      "execution_count": null,
      "outputs": [
        {
          "output_type": "stream",
          "name": "stdout",
          "text": [
            "Name: Rahim\n",
            "ID: 16101328\n",
            "Courses Approved to this CSE student in Spring2016  semester :\n",
            "CSE110\n",
            "MAT110\n",
            "ENG101\n",
            "==================\n",
            "Name: Tanzim\n",
            "ID: 18101326\n",
            "Courses Approved to this EEE student in Spring2018  semester :\n",
            "Mat110\n",
            "PHY111\n",
            "ENG101\n",
            "==================\n",
            "Name: Rudana\n",
            "ID: 18101326\n",
            "Courses Approved to this CSE student in Fall2017  semester :\n",
            "CSE111\n",
            "PHY101\n",
            "MAT120\n",
            "==================\n",
            "Name: Zainab\n",
            "ID: 19201623\n",
            "Courses Approved to this EEE student in Summer2019  semester :\n",
            "EEE201\n",
            "PHY112\n",
            "MAT120\n"
          ]
        }
      ]
    }
  ]
}