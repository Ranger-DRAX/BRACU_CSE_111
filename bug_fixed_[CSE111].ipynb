{
  "nbformat": 4,
  "nbformat_minor": 0,
  "metadata": {
    "colab": {
      "provenance": [],
      "collapsed_sections": []
    },
    "kernelspec": {
      "name": "python3",
      "display_name": "Python 3"
    },
    "language_info": {
      "name": "python"
    }
  },
  "cells": [
    {
      "cell_type": "markdown",
      "source": [
        "### **Task 0:**\n",
        "# **Edit** the portion of filename \"***StudentID_Name_Section***\".ipynb"
      ],
      "metadata": {
        "id": "rFv4GpfgA_gV"
      }
    },
    {
      "cell_type": "markdown",
      "source": [
        "### **Task 1:**\n",
        "Modify the class constructor so that it can --\n",
        "\n",
        "\n",
        "### *   **Accept any number of this 3 parameters** `studentName`, `studentID`, `studentCGPA` and **based on the params it can generate the instance varibale**; without hardcoded guessing.\n",
        "\n",
        "***Removing Hardcoded guessing:*** Even If the user passes only 1 argument while crerating an object, for example, `s3 = Student(studentID = 160041014)`, instead of `(studentName = \"ABC\")`, the object should be created without throwing '`KeyError`'.\n",
        "\n",
        "**Fix this bug for any number of the 3 parameters **"
      ],
      "metadata": {
        "id": "x1uJLznpcqRp"
      }
    },
    {
      "cell_type": "code",
      "source": [
        "class Student:\n",
        "  def __init__(self, **info):\n",
        "\n",
        "    if len(info) == 3:\n",
        "\n",
        "      self.studentName = info['studentName']\n",
        "      self.studentID = info['studentID']\n",
        "      self.studentCGPA = info['studentCGPA']\n",
        "\n",
        "      print(f'Student name is {self.studentName}, student ID  is {self.studentID} and CGPA is {self.studentCGPA}')\n",
        "\n",
        "    elif len(info) == 2:\n",
        "\n",
        "      self.studentName = info['studentName']\n",
        "      self.studentID = info['studentID']\n",
        "\n",
        "      print(f'Student name is {self.studentName}, student ID  is {self.studentID}')\n",
        "\n",
        "    elif len(info) == 1:\n",
        "      self.studentName = info['studentName']\n",
        "\n",
        "      print(f'Student name is {self.studentName}')\n",
        "\n",
        "    elif len(info) > 3:\n",
        "      print(f\"too many arguments. {info}\")\n",
        "\n",
        "    else:\n",
        "      self.studentName = None\n",
        "      self.studentID = None\n",
        "      self.studentCGPA = None\n",
        "      print(\"A student with empty info has been created.\")\n",
        "\n",
        "\n",
        "s1 = Student()\n",
        "s2 = Student()\n",
        "s3 = Student(studentName = \"A\", studentID = 7465251)\n",
        "s3 = Student(studentID = 160041014) # This will throw an  KeyError: 'studentName', fix bugs like this.\n",
        "s4 = Student(studentID = 160041014, studentCGPA = 3.98, studentName = \"B\")"
      ],
      "metadata": {
        "colab": {
          "base_uri": "https://localhost:8080/",
          "height": 399
        },
        "id": "npfZSSlIKjph",
        "outputId": "4ae63495-cacd-4de6-a1ef-0457a8cdd90e"
      },
      "execution_count": null,
      "outputs": [
        {
          "output_type": "stream",
          "name": "stdout",
          "text": [
            "A student with empty info has been created.\n",
            "A student with empty info has been created.\n",
            "Student name is A, student ID  is 7465251\n"
          ]
        },
        {
          "output_type": "error",
          "ename": "KeyError",
          "evalue": "ignored",
          "traceback": [
            "\u001b[0;31m---------------------------------------------------------------------------\u001b[0m",
            "\u001b[0;31mKeyError\u001b[0m                                  Traceback (most recent call last)",
            "\u001b[0;32m<ipython-input-1-4ed3dbb281b3>\u001b[0m in \u001b[0;36m<module>\u001b[0;34m()\u001b[0m\n\u001b[1;32m     35\u001b[0m \u001b[0ms2\u001b[0m \u001b[0;34m=\u001b[0m \u001b[0mStudent\u001b[0m\u001b[0;34m(\u001b[0m\u001b[0;34m)\u001b[0m\u001b[0;34m\u001b[0m\u001b[0;34m\u001b[0m\u001b[0m\n\u001b[1;32m     36\u001b[0m \u001b[0ms3\u001b[0m \u001b[0;34m=\u001b[0m \u001b[0mStudent\u001b[0m\u001b[0;34m(\u001b[0m\u001b[0mstudentName\u001b[0m \u001b[0;34m=\u001b[0m \u001b[0;34m\"A\"\u001b[0m\u001b[0;34m,\u001b[0m \u001b[0mstudentID\u001b[0m \u001b[0;34m=\u001b[0m \u001b[0;36m7465251\u001b[0m\u001b[0;34m)\u001b[0m\u001b[0;34m\u001b[0m\u001b[0;34m\u001b[0m\u001b[0m\n\u001b[0;32m---> 37\u001b[0;31m \u001b[0ms3\u001b[0m \u001b[0;34m=\u001b[0m \u001b[0mStudent\u001b[0m\u001b[0;34m(\u001b[0m\u001b[0mstudentID\u001b[0m \u001b[0;34m=\u001b[0m \u001b[0;36m160041014\u001b[0m\u001b[0;34m)\u001b[0m\u001b[0;34m\u001b[0m\u001b[0;34m\u001b[0m\u001b[0m\n\u001b[0m\u001b[1;32m     38\u001b[0m \u001b[0ms4\u001b[0m \u001b[0;34m=\u001b[0m \u001b[0mStudent\u001b[0m\u001b[0;34m(\u001b[0m\u001b[0mstudentID\u001b[0m \u001b[0;34m=\u001b[0m \u001b[0;36m160041014\u001b[0m\u001b[0;34m,\u001b[0m \u001b[0mstudentCGPA\u001b[0m \u001b[0;34m=\u001b[0m \u001b[0;36m3.98\u001b[0m\u001b[0;34m,\u001b[0m \u001b[0mstudentName\u001b[0m \u001b[0;34m=\u001b[0m \u001b[0;34m\"B\"\u001b[0m\u001b[0;34m)\u001b[0m\u001b[0;34m\u001b[0m\u001b[0;34m\u001b[0m\u001b[0m\n",
            "\u001b[0;32m<ipython-input-1-4ed3dbb281b3>\u001b[0m in \u001b[0;36m__init__\u001b[0;34m(self, **info)\u001b[0m\n\u001b[1;32m     18\u001b[0m \u001b[0;34m\u001b[0m\u001b[0m\n\u001b[1;32m     19\u001b[0m     \u001b[0;32melif\u001b[0m \u001b[0mlen\u001b[0m\u001b[0;34m(\u001b[0m\u001b[0minfo\u001b[0m\u001b[0;34m)\u001b[0m \u001b[0;34m==\u001b[0m \u001b[0;36m1\u001b[0m\u001b[0;34m:\u001b[0m\u001b[0;34m\u001b[0m\u001b[0;34m\u001b[0m\u001b[0m\n\u001b[0;32m---> 20\u001b[0;31m       \u001b[0mself\u001b[0m\u001b[0;34m.\u001b[0m\u001b[0mstudentName\u001b[0m \u001b[0;34m=\u001b[0m \u001b[0minfo\u001b[0m\u001b[0;34m[\u001b[0m\u001b[0;34m'studentName'\u001b[0m\u001b[0;34m]\u001b[0m\u001b[0;34m\u001b[0m\u001b[0;34m\u001b[0m\u001b[0m\n\u001b[0m\u001b[1;32m     21\u001b[0m \u001b[0;34m\u001b[0m\u001b[0m\n\u001b[1;32m     22\u001b[0m       \u001b[0mprint\u001b[0m\u001b[0;34m(\u001b[0m\u001b[0;34mf'Student name is {self.studentName}'\u001b[0m\u001b[0;34m)\u001b[0m\u001b[0;34m\u001b[0m\u001b[0;34m\u001b[0m\u001b[0m\n",
            "\u001b[0;31mKeyError\u001b[0m: 'studentName'"
          ]
        }
      ]
    },
    {
      "cell_type": "code",
      "source": [
        "#bug fixed\n",
        "class Student:\n",
        "  def __init__(self, **info):\n",
        "    if len(info) == 3:\n",
        "      self.studentName = info['studentName']\n",
        "      self.studentID = info['studentID']\n",
        "      self.studentCGPA = info['studentCGPA']\n",
        "      print(f'Student name is {self.studentName}, student ID  is {self.studentID} and CGPA is {self.studentCGPA}')\n",
        "    elif len(info) == 2:\n",
        "      if 'studentName' and 'studentID' in info:\n",
        "        self.studentName = info['studentName']\n",
        "        self.studentID = info['studentID']\n",
        "        print(f'Student name is {self.studentName}, student ID  is {self.studentID}')\n",
        "      elif 'studentName' and 'studentCGPA' in info:\n",
        "        self.studentName = info['studentName']\n",
        "        self.studentCGPA = info['studentCGPA']\n",
        "        print(f'Student name is {self.studentName}, student CGPA  is {self.studentCGPA}')\n",
        "      else:\n",
        "        self.studentID = info['studentID']\n",
        "        self.studentCGPA = info['studentCGPA']\n",
        "        print(f'Student ID is {self.studentID}, student CGPA  is {self.studentCGPA}')\n",
        "    elif len(info) == 1:#we have to use nested  condition for fixing the bug\n",
        "      if 'studentName' in info:\n",
        "        self.studentName = info['studentName']\n",
        "        print(f'Student name is {self.studentName}')\n",
        "      elif 'studentID' in info:\n",
        "        self.studentID = info['studentID']\n",
        "        print(f\"student ID  is {self.studentID}\")\n",
        "      else:\n",
        "        self.studentCGPA = info['studentCGPA']\n",
        "        print(f\"CGPA is {self.studentCGPA}\")\n",
        "      #print(f'Student name is {self.studentID}')\n",
        "    elif len(info) > 3:\n",
        "      print(f\"too many arguments. {info}\")\n",
        "    else:\n",
        "      self.studentName = None\n",
        "      self.studentID = None\n",
        "      self.studentCGPA = None\n",
        "      print(\"A student with empty info has been created.\")\n",
        "s1 = Student()\n",
        "s2 = Student()\n",
        "s3 = Student(studentName = \"A\", studentID = 7465251)\n",
        "s3 = Student(studentID = 160041014)# Bug fix-------now this will work with any perameter\n",
        "s4 = Student(studentID = 160041014, studentCGPA = 3.98, studentName = \"B\")\n"
      ],
      "metadata": {
        "id": "mXQMOLLCfi_6",
        "colab": {
          "base_uri": "https://localhost:8080/"
        },
        "outputId": "9c3238c8-9783-49eb-8baf-a1693a618c3a"
      },
      "execution_count": null,
      "outputs": [
        {
          "output_type": "stream",
          "name": "stdout",
          "text": [
            "A student with empty info has been created.\n",
            "A student with empty info has been created.\n",
            "Student name is A, student ID  is 7465251\n",
            "student ID  is 160041014\n",
            "Student name is B, student ID  is 160041014 and CGPA is 3.98\n"
          ]
        }
      ]
    },
    {
      "cell_type": "code",
      "source": [
        "#"
      ],
      "metadata": {
        "id": "DXitoHqjrnMZ"
      },
      "execution_count": null,
      "outputs": []
    }
  ]
}