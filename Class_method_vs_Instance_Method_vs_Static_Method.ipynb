{
  "nbformat": 4,
  "nbformat_minor": 0,
  "metadata": {
    "colab": {
      "provenance": []
    },
    "kernelspec": {
      "name": "python3",
      "display_name": "Python 3"
    },
    "language_info": {
      "name": "python"
    }
  },
  "cells": [
    {
      "cell_type": "code",
      "execution_count": null,
      "metadata": {
        "colab": {
          "base_uri": "https://localhost:8080/",
          "height": 313
        },
        "id": "e63LPldqaxr0",
        "outputId": "6d643c5e-dd88-43e0-965c-462841ccc847"
      },
      "outputs": [
        {
          "output_type": "stream",
          "name": "stdout",
          "text": [
            "Car Details \n",
            "Make  Audi\n",
            "Model  Q3\n",
            "Year  2015\n",
            "Car Details \n",
            "Make  Toyota\n",
            "Model  Camry\n",
            "Year  2007\n",
            "Car Details \n",
            "Make  Toyota\n",
            "Model  Camry\n",
            "Year  2020\n",
            "Car Details \n",
            "Make  Audi\n",
            "Model  Q3\n",
            "Year  2015\n"
          ]
        },
        {
          "output_type": "execute_result",
          "data": {
            "text/plain": [
              "'Vroom Vroom'"
            ],
            "application/vnd.google.colaboratory.intrinsic+json": {
              "type": "string"
            }
          },
          "metadata": {},
          "execution_count": 1
        }
      ],
      "source": [
        "class Car:\n",
        "\n",
        "  says = \"Vroom Vroom\"\n",
        "  def __init__(self,make,model,year):\n",
        "        self.make=make\n",
        "        self.model=model\n",
        "        self.year=year\n",
        "    \n",
        "  def details(self):          #INSTANCE METHOD\n",
        "        print(\"Car Details \")\n",
        "        print('Make ',self.make)\n",
        "        print('Model ',self.model)\n",
        "        print('Year ',self.year)\n",
        "\n",
        "\n",
        "toyotaCamry=Car('Toyota','Camry','2007')\n",
        "audiQ3=Car('Audi','Q3','2015')\n",
        "\n",
        "\n",
        "audiQ3.details()\n",
        "toyotaCamry.details()\n",
        "\n",
        "toyotaCamry.year = 2020\n",
        "toyotaCamry.details()\n",
        "audiQ3.details()\n",
        "\n",
        "audiQ3.says # We can access class variables via objects"
      ]
    },
    {
      "cell_type": "code",
      "source": [
        "class Car:\n",
        "    make='Ferari'\n",
        "    model='Camry'\n",
        "    year=2007\n",
        "    \n",
        "    @classmethod\n",
        "    def pricerange(cls):    # CLASS METHOD\n",
        "        if cls.make=='Toyota':\n",
        "            print('Medium Price Range')\n",
        "        elif cls.make=='Audi':\n",
        "            print('Expensive Car')\n",
        "        else:\n",
        "            print('Unknwon price range')\n",
        "\n",
        "# to call a classmethod \n",
        "# syntax ==> ClassName.ClassMethodName() \n",
        "# NO need to create any specific object\n",
        "\n",
        "Car.pricerange()\n",
        "\n",
        "Car.make = \"Audi\"\n",
        "Car.pricerange()"
      ],
      "metadata": {
        "colab": {
          "base_uri": "https://localhost:8080/"
        },
        "id": "ZYiTunRxjKlo",
        "outputId": "fafc9539-a9f7-4373-cb5e-f42b541bc8c8"
      },
      "execution_count": null,
      "outputs": [
        {
          "output_type": "stream",
          "name": "stdout",
          "text": [
            "Unknwon price range\n",
            "Expensive Car\n"
          ]
        }
      ]
    },
    {
      "cell_type": "code",
      "source": [
        "class Car:\n",
        "    def __init__(self,make,model,year):\n",
        "        self.make=make\n",
        "        self.model=model\n",
        "        self.year=year\n",
        "    \n",
        "    def details(self):\n",
        "        print(\"Car Details \")\n",
        "        print ('Make ',self.make)\n",
        "        print('Model ',self.model)\n",
        "        print('Year ',self.year)\n",
        "        \n",
        "    @staticmethod\n",
        "    def affordability(type):    # STATIC METHOD\n",
        "        if type=='Toyota':\n",
        "            return 'Affordoable'\n",
        "        elif type=='Audi':\n",
        "            return 'Luxury'\n",
        "        else:\n",
        "            return 'Unknown'\n",
        "\n",
        "Car.affordability(\"Ferari\")\n",
        "\n",
        "\n",
        "audiQ3=Car('Audi','Q3','2015')\n",
        "audiQ3.details()\n",
        "audiQ3.affordability(audiQ3.make)"
      ],
      "metadata": {
        "colab": {
          "base_uri": "https://localhost:8080/",
          "height": 105
        },
        "id": "qxosCSMNmLdF",
        "outputId": "db1d90f6-7dce-4c80-ebde-17e824e4cc9f"
      },
      "execution_count": null,
      "outputs": [
        {
          "output_type": "stream",
          "name": "stdout",
          "text": [
            "Car Details \n",
            "Make  Audi\n",
            "Model  Q3\n",
            "Year  2015\n"
          ]
        },
        {
          "output_type": "execute_result",
          "data": {
            "text/plain": [
              "'Luxury'"
            ],
            "application/vnd.google.colaboratory.intrinsic+json": {
              "type": "string"
            }
          },
          "metadata": {},
          "execution_count": 3
        }
      ]
    },
    {
      "cell_type": "code",
      "source": [
        "class Assassin:\n",
        "  assassin_count = 0\n",
        "\n",
        "  def __init__(self, name, successRate):\n",
        "    self.name = name\n",
        "    self.successRate = successRate\n",
        "    Assassin.assassin_count += 1\n",
        "\n",
        "  @classmethod\n",
        "  def failureRate(cls, fname, failureRate):\n",
        "    sRate = 100 - failureRate\n",
        "    A1 = Assassin(fname,sRate)  # We can create object (instance) inside class method\n",
        "    print(A1.name)  # and also accesss its property directly \n",
        "    return A1\n",
        "\n",
        "  @classmethod\n",
        "  def failurePercentage(cls, fname, fRate):\n",
        "    fRate= int(fRate[0:-1])\n",
        "    sRate = 100 - fRate\n",
        "    return cls(fname,sRate)  # Or we can directly retrun an object (on-the-fly creation)\n",
        "\n",
        "  def printDetails(self):\n",
        "    print(f\"Name: {self.name}\")\n",
        "    print(f\"Name: {self.successRate}\")\n",
        "    print(f\"Total Number of Assassins: {Assassin.assassin_count}\")\n",
        "\n",
        "# Write your code here\n",
        "    \n",
        "john_wick = Assassin('John Wick', 100)\n",
        "john_wick.printDetails()\n",
        "print('================================')\n",
        "nagisa = Assassin.failureRate(\"Nagisa\", 20)\n",
        "nagisa.printDetails()\n",
        "print('================================')\n",
        "akabane = Assassin.failurePercentage(\"Akabane\", \"10%\")\n",
        "akabane.printDetails()\n"
      ],
      "metadata": {
        "colab": {
          "base_uri": "https://localhost:8080/"
        },
        "id": "G5Hm5Od7rB96",
        "outputId": "4dd50959-2ffb-4509-92f6-998c4dc55c2a"
      },
      "execution_count": null,
      "outputs": [
        {
          "output_type": "stream",
          "name": "stdout",
          "text": [
            "Name: John Wick\n",
            "Name: 100\n",
            "Total Number of Assassins: 1\n",
            "================================\n",
            "Nagisa\n",
            "Name: Nagisa\n",
            "Name: 80\n",
            "Total Number of Assassins: 2\n",
            "================================\n",
            "Name: Akabane\n",
            "Name: 90\n",
            "Total Number of Assassins: 3\n"
          ]
        }
      ]
    },
    {
      "cell_type": "markdown",
      "source": [
        "### **Factory Method using Class Method**"
      ],
      "metadata": {
        "id": "EhmCVLV0aOlI"
      }
    },
    {
      "cell_type": "code",
      "source": [
        "class Student:\n",
        "  uni_name = \"BRACU\"\n",
        "\n",
        "  def __init__(self, name, ID):\n",
        "    self.name = name\n",
        "    self.ID = ID\n",
        "\n",
        "  def details(self):\n",
        "    print(f\"Name: {self.name}\")\n",
        "    print(f\"ID: {self.ID}\")\n",
        "    print(f\"University: {Student.uni_name}\")\n",
        "    print(f\"=========================\")\n",
        "  \n",
        "\n",
        "  @classmethod\n",
        "  def update_uni_name(cls, new_uni_name):\n",
        "    Student.uni_name = new_uni_name\n",
        "\n",
        "  @classmethod\n",
        "  def from_string(cls, student_info):\n",
        "    s_name, s_id = student_info.split(\"-\")\n",
        "    # print(s_name, s_id)\n",
        "     \n",
        "    return Student(s_name, s_id)"
      ],
      "metadata": {
        "id": "cHvceAdVaUJA"
      },
      "execution_count": null,
      "outputs": []
    },
    {
      "cell_type": "code",
      "source": [
        "s1 = Student(\"John\", 123)\n",
        "s1.details()\n",
        "\n",
        "s2 = Student(\"Mary\", 456)\n",
        "s2.details()\n",
        "\n",
        "s3 = Student.from_string(\"Susan - 910\")\n",
        "s3.details()"
      ],
      "metadata": {
        "colab": {
          "base_uri": "https://localhost:8080/"
        },
        "id": "gIBNnye4dSIQ",
        "outputId": "de9ef538-3ec4-434b-cacb-cffe480424c2"
      },
      "execution_count": null,
      "outputs": [
        {
          "output_type": "stream",
          "name": "stdout",
          "text": [
            "Name: John\n",
            "ID: 123\n",
            "University: BRACU\n",
            "=========================\n",
            "Name: Mary\n",
            "ID: 456\n",
            "University: BRACU\n",
            "=========================\n",
            "Name: Susan \n",
            "ID:  910\n",
            "University: BRACU\n",
            "=========================\n"
          ]
        }
      ]
    }
  ]
}