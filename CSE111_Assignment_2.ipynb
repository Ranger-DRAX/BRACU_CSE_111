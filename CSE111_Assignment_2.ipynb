{
  "cells": [
    {
      "cell_type": "markdown",
      "id": "0c300718",
      "metadata": {
        "id": "0c300718"
      },
      "source": [
        "# Assignment_2"
      ]
    },
    {
      "cell_type": "code",
      "execution_count": null,
      "id": "0c4e477d",
      "metadata": {
        "id": "0c4e477d",
        "outputId": "d1e335e6-c0b5-4c43-d33f-c781c62e71fd"
      },
      "outputs": [
        {
          "name": "stdout",
          "output_type": "stream",
          "text": [
            "Integer\n",
            "1234\n",
            "=====================\n",
            "String\n",
            "Hello\n",
            "=====================\n",
            "Float\n",
            "4.0\n"
          ]
        }
      ],
      "source": [
        "#task1\n",
        "#1\n",
        "class DataType:\n",
        "    def __init__(self,name,value):\n",
        "        self.name=name\n",
        "        self.value=value\n",
        "data_type1 = DataType('Integer', 1234)\n",
        "print(data_type1.name)\n",
        "print(data_type1.value)\n",
        "print('=====================')\n",
        "data_type2 = DataType('String', 'Hello')\n",
        "print(data_type2.name)\n",
        "print(data_type2.value)\n",
        "print('=====================')\n",
        "data_type3 = DataType('Float', 4.0)\n",
        "print(data_type3.name)\n",
        "print(data_type3.value)\n",
        "#2"
      ]
    },
    {
      "cell_type": "code",
      "execution_count": null,
      "id": "99fb5f5c",
      "metadata": {
        "id": "99fb5f5c",
        "outputId": "ab046181-6afa-48b1-da73-c70dcdf62445"
      },
      "outputs": [
        {
          "name": "stdout",
          "output_type": "stream",
          "text": [
            "Name of this flower: Rose\n",
            "Color of this flower: Red\n",
            "Number of petal: 6\n",
            "=====================\n",
            "Name of this flower: Orchid\n",
            "Color of this flower: Purple\n",
            "Number of petal: 4\n",
            "<__main__.Flower object at 0x000001F468FBCE50> <__main__.Flower object at 0x000001F468FF5A00>\n",
            "They are different\n"
          ]
        }
      ],
      "source": [
        "#task-2\n",
        "\n",
        "class Flower:\n",
        "    def __init__(self):\n",
        "        pass\n",
        "flower1 = Flower()\n",
        "flower1.name=\"Rose\"\n",
        "flower1.color=\"Red\"\n",
        "flower1.num_of_petal=6\n",
        "print(\"Name of this flower:\", flower1.name)\n",
        "print(\"Color of this flower:\",flower1.color)\n",
        "print(\"Number of petal:\",flower1.num_of_petal)\n",
        "print(\"=====================\")\n",
        "flower2 = Flower()\n",
        "flower2.name=\"Orchid\"\n",
        "flower2.color=\"Purple\"\n",
        "flower2.num_of_petal=4\n",
        "print(\"Name of this flower:\",flower2.name)\n",
        "print(\"Color of this flower:\",flower2.color)\n",
        "print (\"Number of petal:\",flower2. num_of_petal)\n",
        "print(flower1,flower2)\n",
        "print('They are different')"
      ]
    },
    {
      "cell_type": "code",
      "execution_count": null,
      "id": "053e7b4e",
      "metadata": {
        "id": "053e7b4e",
        "outputId": "b64a02af-1469-4b42-814e-624259279a76",
        "colab": {
          "base_uri": "https://localhost:8080/"
        }
      },
      "outputs": [
        {
          "output_type": "stream",
          "name": "stdout",
          "text": [
            "Heath Ledger\n",
            "Mind Game\n",
            "False\n",
            "=====================\n",
            "Joaquin Phoenix\n",
            "Laughing out Loud\n",
            "True\n",
            "=====================\n",
            "different\n",
            "same\n",
            "The first if/else block prints 'different' because both are different objects stored at different memory locations\n",
            "The second if/else block prints 'same' becaues they contain the same value of the same data type\n"
          ]
        }
      ],
      "source": [
        "#task-3\n",
        "class Joker:\n",
        "    def __init__(self,name,power,is_he_psycho):\n",
        "        self.name=name\n",
        "        self.power=power\n",
        "        self.is_he_psycho=is_he_psycho\n",
        "j1 = Joker('Heath Ledger', 'Mind Game', False)\n",
        "print(j1.name)\n",
        "print(j1.power)\n",
        "print(j1.is_he_psycho)\n",
        "print('=====================')\n",
        "j2 = Joker('Joaquin Phoenix', 'Laughing out Loud', True)\n",
        "print(j2.name)\n",
        "print(j2.power)\n",
        "print(j2.is_he_psycho)\n",
        "print('=====================')\n",
        "if j1 == j2:\n",
        "    print('same')\n",
        "else:\n",
        "    print('different')\n",
        "j2.name = 'Heath Ledger'\n",
        "if j1.name == j2.name:\n",
        "    print('same')\n",
        "else:\n",
        "    print('different')\n",
        "print(\"The first if/else block prints 'different' because both are different objects stored at different memory locations\")\n",
        "print(\"The second if/else block prints 'same' becaues they contain the same value of the same data type\")"
      ]
    },
    {
      "cell_type": "code",
      "execution_count": null,
      "id": "588a6fd7",
      "metadata": {
        "id": "588a6fd7",
        "outputId": "b0cd67f8-09c0-4e35-9475-2dabae97a647",
        "colab": {
          "base_uri": "https://localhost:8080/"
        }
      },
      "outputs": [
        {
          "output_type": "stream",
          "name": "stdout",
          "text": [
            "=======Team 1=======\n",
            "Pokemon 1: pikachu 90\n",
            "Pokemon 2: charmander 60\n",
            "Combined Power: 1500\n",
            "=======Team 2=======\n",
            "Pokemon 1: bulbasaur 80\n",
            "Pokemon 2: squirtle 70\n",
            "Combined Power: 1350\n"
          ]
        }
      ],
      "source": [
        "#tqask-4\n",
        "class Pokemon:\n",
        "    #constructor\n",
        "    def __init__(self,pokemon1_name,pokemon2_name,pokemon1_power,pokemon2_power,damage_rate):\n",
        "        self.pokemon1_name=pokemon1_name\n",
        "        self.pokemon2_name=pokemon2_name\n",
        "        self.pokemon1_power=pokemon1_power\n",
        "        self.pokemon2_power=pokemon2_power\n",
        "        self.damage_rate=damage_rate\n",
        "\n",
        "team_pika = Pokemon('pikachu', 'charmander', 90, 60, 10)\n",
        "print('=======Team 1=======')\n",
        "print('Pokemon 1:',team_pika.pokemon1_name,team_pika.pokemon1_power)\n",
        "print('Pokemon 2:',team_pika.pokemon2_name,team_pika.pokemon2_power)\n",
        "pika_combined_power = (team_pika.pokemon1_power +team_pika.pokemon2_power) * team_pika.damage_rate\n",
        "print('Combined Power:', pika_combined_power)\n",
        "print('=======Team 2=======')\n",
        "ob_1=Pokemon('bulbasaur','squirtle',80,70,9)\n",
        "print('Pokemon 1:',ob_1.pokemon1_name,ob_1.pokemon1_power)\n",
        "print('Pokemon 2:',ob_1.pokemon2_name,ob_1.pokemon2_power)\n",
        "pika_combined_power = (ob_1.pokemon1_power +ob_1.pokemon2_power) * ob_1.damage_rate\n",
        "print('Combined Power:', pika_combined_power)"
      ]
    },
    {
      "cell_type": "code",
      "execution_count": null,
      "id": "757db649",
      "metadata": {
        "id": "757db649",
        "outputId": "a171458d-59f9-494e-c9f4-80e23d6e9648"
      },
      "outputs": [
        {
          "name": "stdout",
          "output_type": "stream",
          "text": [
            "Name of the Player: Ronaldo\n",
            "Jersey Number of player: 9\n",
            "Position of player: Striker\n",
            "===========================\n",
            "Name of the player: Neuer\n",
            "Jersey Number of player: 1\n",
            "Position of player: Goal Keeper\n"
          ]
        }
      ],
      "source": [
        "#task-5\n",
        "class Player:\n",
        "    def __init__(self):\n",
        "        pass\n",
        "player1 = Player()\n",
        "player1.name = \"Ronaldo\"\n",
        "player1.jersy_number = 9\n",
        "player1.position = \"Striker\"\n",
        "print(\"Name of the Player:\", player1.name)\n",
        "print(\"Jersey Number of player:\", player1.jersy_number)\n",
        "print(\"Position of player:\", player1.position)\n",
        "print(\"===========================\")\n",
        "player2 = Player()\n",
        "player2.name = \"Neuer\"\n",
        "player2.jersy_number = 1\n",
        "player2.position = \"Goal Keeper\"\n",
        "print(\"Name of the player:\", player2.name)\n",
        "print(\"Jersey Number of player:\", player2.jersy_number)\n",
        "print(\"Position of player:\", player2.position)"
      ]
    },
    {
      "cell_type": "code",
      "execution_count": null,
      "id": "0dda3efd",
      "metadata": {
        "id": "0dda3efd",
        "outputId": "bc51b936-a2e4-4925-e2a8-49983721d82f"
      },
      "outputs": [
        {
          "name": "stdout",
          "output_type": "stream",
          "text": [
            "Name: Bangladesh\n",
            "Continent: Asia\n",
            "Capital: Dhaka\n",
            "Fifa Ranking: 187\n",
            "===================\n",
            "Name: Belgium\n",
            "Continent: Europe\n",
            "Capital: Brussels\n",
            "Fifa Ranking: 1\n"
          ]
        }
      ],
      "source": [
        "#task-6\n",
        "class Country:\n",
        "    def __init__(self):\n",
        "        self.name=\"Bangladesh\"\n",
        "        self.continent='Asia'\n",
        "        self.capital='Dhaka'\n",
        "        self.fifa_ranking=187\n",
        "\n",
        "country = Country()\n",
        "print('Name:',country.name)\n",
        "print('Continent:',country.continent)\n",
        "print('Capital:',country.capital)\n",
        "print('Fifa Ranking:',country.fifa_ranking)\n",
        "print('===================')\n",
        "country.name = 'Belgium'\n",
        "country.continent = 'Europe'\n",
        "country.capital = \"Brussels\"\n",
        "country.fifa_ranking = 1\n",
        "print('Name:',country.name)\n",
        "print('Continent:',country.continent)\n",
        "print('Capital:',country.capital)\n",
        "print('Fifa Ranking:',country.fifa_ranking)"
      ]
    },
    {
      "cell_type": "code",
      "execution_count": null,
      "id": "040dd554",
      "metadata": {
        "id": "040dd554",
        "outputId": "70bc345d-9a2e-411f-dea1-43ef4d4aaad4",
        "colab": {
          "base_uri": "https://localhost:8080/"
        }
      },
      "outputs": [
        {
          "output_type": "stream",
          "name": "stdout",
          "text": [
            "Name: Tanjiro\n",
            "Fighting Style: Water Breathing\n",
            "Knows 10 technique(s) and has killed 10 demon(s)\n",
            "===================\n",
            "Name: Zenitsu\n",
            "Fighting Style: Thunder Breathing\n",
            "Knows 1 technique(s) and has killed 4 demon(s)\n",
            "===================\n",
            "Name: Inosuke\n",
            "Fighting Style: Beast Breathing\n",
            "Knows 5 technique(s) and has killed 7 demon(s)\n",
            "===================\n",
            "Tanjiro, Zenitsu, Inosuke knows total 16 techniques\n",
            "They have killed total 21 demons\n"
          ]
        }
      ],
      "source": [
        "#task-7\n",
        "class DemonSlayer:\n",
        "    def __init__(self,name,style,number_of_technique,kill):\n",
        "        self.name=name\n",
        "        self.style=style\n",
        "        self.number_of_technique=number_of_technique\n",
        "        self.kill=kill\n",
        "tanjiro = DemonSlayer(\"Tanjiro\", \"Water Breathing\", 10, 10)\n",
        "print('Name:',tanjiro.name)\n",
        "print('Fighting Style:',tanjiro.style)\n",
        "print(f'Knows {tanjiro.number_of_technique} technique(s) and has killed {tanjiro.kill} demon(s)')\n",
        "print('===================')\n",
        "zenitsu = DemonSlayer(\"Zenitsu\", \"Thunder Breathing\", 1, 4)\n",
        "print('Name:',zenitsu.name)\n",
        "print('Fighting Style:',zenitsu.style)\n",
        "print(f'Knows {zenitsu.number_of_technique} technique(s) and has killed {zenitsu.kill} demon(s)')\n",
        "print('===================')\n",
        "inosuke = DemonSlayer(\"Inosuke\", \"Beast Breathing\", 5, 7)\n",
        "print('Name:',inosuke.name)\n",
        "print('Fighting Style:',inosuke.style)\n",
        "print(f'Knows {inosuke.number_of_technique} technique(s) and has killed {inosuke.kill} demon(s)')\n",
        "print('===================')\n",
        "print(f'{tanjiro.name}, {zenitsu.name}, {inosuke.name} knows total {tanjiro.number_of_technique + zenitsu.number_of_technique + inosuke.number_of_technique} techniques')\n",
        "print(f'They have killed total {tanjiro.kill + zenitsu.kill + inosuke.kill} demons')"
      ]
    },
    {
      "cell_type": "code",
      "execution_count": null,
      "id": "2ae58cf6",
      "metadata": {
        "id": "2ae58cf6"
      },
      "outputs": [],
      "source": [
        "#task-8\n",
        "class box:\n",
        "    def __init__(self,data):\n",
        "        self.height=data[0]\n",
        "        self.width=data[1]\n",
        "        self.breadth=data[2]\n",
        "print(\"Box 1\")\n",
        "print('Creating a Box!')\n",
        "b1 = box([10,10,10])\n",
        "\n",
        "print(f\"Volume of the box is {b1.height*b1.width*b1.breadth} cubic units\")\n",
        "print(\"=========================\")\n",
        "print(\"Height:\", b1.height)\n",
        "print(\"Width:\", b1.width)\n",
        "print(\"Breadth:\", b1.breadth)\n",
        "print(\"-------------------------\")\n",
        "print(\"Box 2\")\n",
        "b2 = box((30,10,10))\n",
        "print('Creating a Box!')\n",
        "print(f\"Volume of the box is {b2.height*b1.width*b1.breadth} cubic units\")\n",
        "print(\"=========================\")\n",
        "print(\"Height:\", b2.height)\n",
        "print(\"Width:\", b2.width)\n",
        "print(\"Breadth:\", b2.breadth)\n",
        "b2.height = 300\n",
        "print(\"Updating Box 2!\")\n",
        "print(\"Height:\", b2.height)\n",
        "print(\"Width:\", b2.width)\n",
        "print(\"Breadth:\", b2.breadth)\n",
        "print(\"-------------------------\")\n",
        "print(\"Box 3\")\n",
        "b3 = b2\n",
        "print(\"Height:\", b3.height)\n",
        "print(\"Width:\", b3.width)\n",
        "print(\"Breadth:\", b3.breadth)"
      ]
    },
    {
      "cell_type": "code",
      "execution_count": null,
      "id": "f2458c41",
      "metadata": {
        "id": "f2458c41",
        "outputId": "6891b891-980f-4891-8adb-26a5dbe9b1ce",
        "colab": {
          "base_uri": "https://localhost:8080/"
        }
      },
      "outputs": [
        {
          "output_type": "stream",
          "name": "stdout",
          "text": [
            "CANCEL button specifications\n",
            "Button name: CANCEL\n",
            "Number of the border characters for the top and the bottom: 28\n",
            "Number of spaces between the left side border and the first character of the button name: 10\n",
            "Number of spaces between the right side border and the last character of the button name: 10\n",
            "Characters representi.ng the borders: x\n",
            "xxxxxxxxxxxxxxxxxxxxxxxxxxxx\n",
            "x          CANCEL          x\n",
            "xxxxxxxxxxxxxxxxxxxxxxxxxxxx\n",
            "=======================================================\n",
            "Notify button specifications\n",
            "Button name: Notify\n",
            "Number of the border characters for the top and the bottom: 14\n",
            "Number of spaces between the left side border and the first character of the button name: 3\n",
            "Number of spaces between the right side border and the last character of the button name: 3\n",
            "Characters representi.ng the borders: !\n",
            "!!!!!!!!!!!!!!\n",
            "!   Notify   !\n",
            "!!!!!!!!!!!!!!\n",
            "=======================================================\n",
            "SAVE PROGRESS button specifications\n",
            "Button name: SAVE PROGRESS\n",
            "Number of the border characters for the top and the bottom: 25\n",
            "Number of spaces between the left side border and the first character of the button name: 5\n",
            "Number of spaces between the right side border and the last character of the button name: 5\n",
            "Characters representi.ng the borders: $\n",
            "$$$$$$$$$$$$$$$$$$$$$$$$$\n",
            "$     SAVE PROGRESS     $\n",
            "$$$$$$$$$$$$$$$$$$$$$$$$$\n"
          ]
        }
      ],
      "source": [
        "#task-9\n",
        "class buttons():\n",
        "  def __init__(self, word, spaces, char):\n",
        "    border = 2 + 2*spaces + len(word)\n",
        "    print(word, \"button specifications\")\n",
        "    print(\"Button name:\", word)\n",
        "    print(\"Number of the border characters for the top and the bottom:\", border)\n",
        "    print(\"Number of spaces between the left side border and the first character of the button name:\", spaces)\n",
        "    print(\"Number of spaces between the right side border and the last character of the button name:\", spaces)\n",
        "    print(\"Characters representi.ng the borders:\", char)\n",
        "\n",
        "    print(char*border)\n",
        "    print(char + \" \" * spaces + word + \" \" * spaces + char)\n",
        "    print(char*border)\n",
        "\n",
        "word = \"CANCEL\"\n",
        "spaces = 10\n",
        "border = 'x'\n",
        "b1 = buttons(word, spaces, border)\n",
        "print(\"=======================================================\")\n",
        "b2 = buttons(\"Notify\",3, '!')\n",
        "print(\"=======================================================\")\n",
        "b3 = buttons('SAVE PROGRESS', 5, '$')\n",
        "\n"
      ]
    },
    {
      "cell_type": "code",
      "execution_count": null,
      "id": "0cab0e70",
      "metadata": {
        "id": "0cab0e70",
        "outputId": "4a52e8ca-e794-4792-dda0-5bc749b45196",
        "colab": {
          "base_uri": "https://localhost:8080/"
        }
      },
      "outputs": [
        {
          "output_type": "stream",
          "name": "stdout",
          "text": [
            "Part 1:\n",
            "Name of President: Aladeen\n",
            "Designation: President Prime Minister Admiral General\n",
            "Number of wife: 100\n",
            "Is he/she a dictator: True\n",
            "Part 2:\n",
            "Name of President: Donald Trump\n",
            "Designation: President\n",
            "Number of wife: 1\n",
            "Is he/she a dictator: False\n",
            "Previous Information Lost\n"
          ]
        }
      ],
      "source": [
        "#task-10\n",
        "class Wadiya():\n",
        "    def __init__(self):\n",
        "        self.name = 'Aladeen'\n",
        "        self.designation = 'President Prime Minister Admiral General'\n",
        "        self.num_of_wife = 100\n",
        "        self.dictator = True\n",
        "print('Part 1:')\n",
        "b1=Wadiya()\n",
        "print('Name of President:',b1.name)\n",
        "print('Designation:',b1.designation)\n",
        "print('Number of wife:',b1.num_of_wife)\n",
        "print('Is he/she a dictator:',b1.dictator)\n",
        "print('Part 2:')\n",
        "b1.name='Donald Trump'\n",
        "b1.designation='President'\n",
        "b1.num_of_wife='1'\n",
        "b1.dictator='False'\n",
        "print('Name of President:',b1.name)\n",
        "print('Designation:',b1.designation)\n",
        "print('Number of wife:',b1.num_of_wife)\n",
        "print('Is he/she a dictator:',b1.dictator)\n",
        "print('Previous Information Lost')"
      ]
    }
  ],
  "metadata": {
    "kernelspec": {
      "display_name": "Python 3 (ipykernel)",
      "language": "python",
      "name": "python3"
    },
    "language_info": {
      "codemirror_mode": {
        "name": "ipython",
        "version": 3
      },
      "file_extension": ".py",
      "mimetype": "text/x-python",
      "name": "python",
      "nbconvert_exporter": "python",
      "pygments_lexer": "ipython3",
      "version": "3.9.7"
    },
    "colab": {
      "provenance": [],
      "collapsed_sections": []
    }
  },
  "nbformat": 4,
  "nbformat_minor": 5
}