{
  "nbformat": 4,
  "nbformat_minor": 0,
  "metadata": {
    "colab": {
      "name": "CSE111_Assignment_5.ipynb",
      "provenance": [],
      "collapsed_sections": []
    },
    "kernelspec": {
      "name": "python3",
      "display_name": "Python 3"
    },
    "language_info": {
      "name": "python"
    }
  },
  "cells": [
    {
      "cell_type": "code",
      "execution_count": null,
      "metadata": {
        "colab": {
          "base_uri": "https://localhost:8080/"
        },
        "id": "eEuegACRlXER",
        "outputId": "50e9af6a-3464-44cf-d855-65bda79783b2"
      },
      "outputs": [
        {
          "output_type": "stream",
          "name": "stdout",
          "text": [
            "Quiz 1 (out of 10): 10\n",
            "Quiz 2 (out of 10): 10\n",
            "Lab (out of 30): 20\n",
            "Mid (out of 20): 20\n",
            "Final (out of 30): 30\n",
            "Total marks: 90\n"
          ]
        }
      ],
      "source": [
        "#task_1\n",
        "class Marks:\n",
        "    def __init__(self,mark):\n",
        "        self.mark=mark\n",
        "    def __add__(self,other):\n",
        "        sum=self.mark+other.mark\n",
        "        return Marks(sum)\n",
        "\n",
        "Q1 = Marks(int(input(\"Quiz 1 (out of 10): \")))\n",
        "Q2 = Marks(int(input(\"Quiz 2 (out of 10): \")))\n",
        "Lab = Marks(int(input(\"Lab (out of 30): \")))ac\n",
        "Mid = Marks(int(input(\"Mid (out of 20): \")))\n",
        "Final = Marks(int(input(\"Final (out of 30): \")))\n",
        "total = Q1 + Q2 + Lab + Mid + Final\n",
        "print(\"Total marks: {}\".format(total.mark))"
      ]
    },
    {
      "cell_type": "code",
      "source": [
        "#task_1\n",
        "class Marks:\n",
        "    def __init__(self, x):\n",
        "        self.mark = x\n",
        "    #def __repr__(self):\n",
        "        #return f\"The result is {self.mark}\"\n",
        "    def __add__(self, other):\n",
        "        return Marks(self.mark+other.mark)\n",
        "Q1 = Marks(int(input(\"Quiz 1 (out of 10): \")))\n",
        "Q2 = Marks(int(input(\"Quiz 2 (out of 10): \")))\n",
        "Lab = Marks(int(input(\"Lab (out of 30): \")))\n",
        "Mid = Marks(int(input(\"Mid (out of 20): \")))\n",
        "Final = Marks(int(input(\"Final (out of 30): \")))\n",
        "\n",
        "total = Q1 + Q2 + Lab + Mid + Final\n",
        "print(\"Total marks: {}\".format(total.mark))\n"
      ],
      "metadata": {
        "id": "ytauRWhwdAL9"
      },
      "execution_count": null,
      "outputs": []
    },
    {
      "cell_type": "code",
      "source": [
        "#task_2\n",
        "class Course:\n",
        "    def __init__(self,c):\n",
        "        self.c=c\n",
        "class Teacher:\n",
        "    def __init__(self,name,dept):\n",
        "        self.__name=name\n",
        "        self.__dept=dept\n",
        "        self.__list_course=[]\n",
        "\n",
        "\n",
        "    def addCourse(self,ff):\n",
        "        self.__list_course.append(ff.c)\n",
        "    def printDetail(self):\n",
        "        print('====================================')\n",
        "        print('Name:',self.__name)\n",
        "        print('Department:',self.__dept)\n",
        "        print('list of course:')\n",
        "        print('====================================')\n",
        "        for x in self.__list_course:\n",
        "            print(x)\n",
        "t1 = Teacher(\"Saad Abdullah\", \"CSE\")\n",
        "t2 = Teacher(\"Mumit Khan\", \"CSE\")\n",
        "t3 = Teacher(\"Sadia Kazi\", \"CSE\")\n",
        "c1 = Course(\"CSE 110 Programming Language I\")\n",
        "c2 = Course(\"CSE 111 Programming Language-II\")\n",
        "c3 = Course(\"CSE 220 Data Structures\")\n",
        "c4 = Course(\"CSE 221 Algorithms\")\n",
        "c5 = Course(\"CCSE 230 Discrete Mathematics\")\n",
        "c6 = Course(\"CSE 310 Object Oriented Programming\")\n",
        "c7 = Course(\"CSE 320 Data Communications\")\n",
        "c8 = Course(\"CSE 340 Computer Architecture\")\n",
        "t1.addCourse(c1)\n",
        "t1.addCourse(c2)\n",
        "t2.addCourse(c3)\n",
        "t2.addCourse(c4)\n",
        "t2.addCourse(c5)\n",
        "t3.addCourse(c6)\n",
        "t3.addCourse(c7)\n",
        "t3.addCourse(c8)\n",
        "t1.printDetail()\n",
        "t2.printDetail()\n",
        "t3.printDetail()"
      ],
      "metadata": {
        "colab": {
          "base_uri": "https://localhost:8080/"
        },
        "id": "AiACjF23HO98",
        "outputId": "d0722fd4-e76f-4d77-86e4-0435fe1f904c"
      },
      "execution_count": null,
      "outputs": [
        {
          "output_type": "stream",
          "name": "stdout",
          "text": [
            "====================================\n",
            "Name: Saad Abdullah\n",
            "Department: CSE\n",
            "list of course:\n",
            "====================================\n",
            "CSE 110 Programming Language I\n",
            "CSE 111 Programming Language-II\n",
            "====================================\n",
            "Name: Mumit Khan\n",
            "Department: CSE\n",
            "list of course:\n",
            "====================================\n",
            "CSE 220 Data Structures\n",
            "CSE 221 Algorithms\n",
            "CCSE 230 Discrete Mathematics\n",
            "====================================\n",
            "Name: Sadia Kazi\n",
            "Department: CSE\n",
            "list of course:\n",
            "====================================\n",
            "CSE 310 Object Oriented Programming\n",
            "CSE 320 Data Communications\n",
            "CSE 340 Computer Architecture\n"
          ]
        }
      ]
    },
    {
      "cell_type": "code",
      "source": [
        "#task_3\n",
        "class Player:\n",
        "    def __init__(self,name):\n",
        "        self.name=name\n",
        "class Team:\n",
        "    def __init__(self,team=None):\n",
        "        self.__team=team\n",
        "\n",
        "        self.__players=[]\n",
        "\n",
        "    def setName(self,t_n):\n",
        "        self.__team=t_n\n",
        "    def addPlayer(self,p_n):\n",
        "        self.__players.append(p_n.name)\n",
        "    def printDetail(self):\n",
        "        print(\"========================\")\n",
        "        print(f'Team: {self.__team}')\n",
        "        print('List of Players: ')\n",
        "        print(self.__players)\n",
        "        print(\"========================\")\n",
        "b = Team()\n",
        "b.setName('Bangladesh')\n",
        "mashrafi = Player(\"Mashrafi\")\n",
        "b.addPlayer(mashrafi)\n",
        "tamim = Player(\"Tamim\")\n",
        "b.addPlayer(tamim)\n",
        "b.printDetail()\n",
        "a=Team('Australia')\n",
        "ponting = Player(\"Ponting\")\n",
        "a.addPlayer(ponting)\n",
        "lee = Player(\"Lee\")\n",
        "a.addPlayer(lee)\n",
        "a.printDetail()"
      ],
      "metadata": {
        "id": "fOtVORBY3n2y",
        "colab": {
          "base_uri": "https://localhost:8080/"
        },
        "outputId": "7b085f37-259a-4c40-919a-08e375c628e3"
      },
      "execution_count": null,
      "outputs": [
        {
          "output_type": "stream",
          "name": "stdout",
          "text": [
            "========================\n",
            "Team: Bangladesh\n",
            "List of Players: \n",
            "['Mashrafi', 'Tamim']\n",
            "========================\n",
            "========================\n",
            "Team: Australia\n",
            "List of Players: \n",
            "['Ponting', 'Lee']\n",
            "========================\n"
          ]
        }
      ]
    },
    {
      "cell_type": "code",
      "source": [
        "#task_4 \n",
        "class Color:\n",
        "    def __init__(self,c):\n",
        "        self.clr=c\n",
        "        #3 color\n",
        "        #red,blue,yellow\n",
        "\n",
        "    def __add__(self, other):\n",
        "        if self.clr=='red' and other.clr=='yellow':\n",
        "            return Color('orange')\n",
        "        elif self.clr=='red' and other.clr=='blue':\n",
        "            return Color('violet')\n",
        "        elif self.clr=='yellow' and other.clr=='blue':\n",
        "            return Color('green')\n",
        "        elif self.clr=='yellow' and other.clr=='red':\n",
        "            return Color('orange')\n",
        "        elif self.clr=='blue' and other.clr=='red':\n",
        "            return Color('violet')\n",
        "        elif self.clr=='blue' and other.clr=='yellow':\n",
        "            return Color('green')\n",
        "C1 = Color(input(\"First Color: \").lower())\n",
        "C2 = Color(input(\"Second Color: \").lower())\n",
        "C3 = C1 + C2\n",
        "print(\"Color formed:\", C3.clr)#task_4"
      ],
      "metadata": {
        "colab": {
          "base_uri": "https://localhost:8080/"
        },
        "id": "2lm455UMfY-z",
        "outputId": "facca3d0-8d42-43f4-eb85-f73d96b8482e"
      },
      "execution_count": null,
      "outputs": [
        {
          "output_type": "stream",
          "name": "stdout",
          "text": [
            "First Color: yellow\n",
            "Second Color: blue\n",
            "Color formed: green\n"
          ]
        }
      ]
    },
    {
      "cell_type": "code",
      "source": [
        "#task-4\n",
        "class Color:\n",
        "    def __init__(self, name):\n",
        "        self.clr = name\n",
        "    def __add__(self, other_color):\n",
        "        mixtures = {\n",
        "            'Orange':\n",
        "                ['red', 'yellow'],\n",
        "            'Violet':\n",
        "                ['red', 'blue'],\n",
        "            'Green':\n",
        "                ['yellow', 'blue']\n",
        "        }\n",
        "        for key, value in mixtures.items():\n",
        "            if self.clr in value and other_color.clr in value:\n",
        "                self.clr = key\n",
        "                return self\n",
        "C1 = Color(input(\"First Color: \").lower())\n",
        "C2 = Color(input(\"Second Color: \").lower())\n",
        "C3 = C1 + C2\n",
        "print(\"Color formed:\", C3.clr)"
      ],
      "metadata": {
        "id": "zzqE8TZkVGZq"
      },
      "execution_count": null,
      "outputs": []
    },
    {
      "cell_type": "code",
      "source": [
        "#task_5\n",
        "import math\n",
        "class Circle:\n",
        "\n",
        "    def __init__(self,r):\n",
        "        self.__r=r\n",
        "\n",
        "    def getRadius(self):\n",
        "        return self.__r\n",
        "\n",
        "    def setRadius(self,r1):\n",
        "        self.__r=r1\n",
        "    def area(self):\n",
        "        k=self.__r**2\n",
        "        return math.pi*k\n",
        "    def __add__(self, other):\n",
        "        new_r=self.__r+other.__r\n",
        "        return Circle(new_r)\n",
        "\n",
        "c1 = Circle(4)\n",
        "print(\"First circle radius:\" , c1.getRadius())\n",
        "print(\"First circle area:\" ,c1.area())\n",
        "c2 = Circle(5)\n",
        "print(\"Second circle radius:\" ,c2.getRadius())\n",
        "print(\"Second circle area:\" ,c2.area())\n",
        "c3 = c1 + c2\n",
        "print(\"Third circle radius:\" ,c3.getRadius())\n",
        "print(\"Third circle area:\" ,c3.area())\n",
        "\n",
        "\n",
        "\n"
      ],
      "metadata": {
        "colab": {
          "base_uri": "https://localhost:8080/"
        },
        "id": "w50kj-1ZVo4n",
        "outputId": "efbb4bc9-db2d-44ed-cc7e-10f22723bac1"
      },
      "execution_count": null,
      "outputs": [
        {
          "output_type": "stream",
          "name": "stdout",
          "text": [
            "First circle radius: 4\n",
            "First circle area: 50.26548245743669\n",
            "Second circle radius: 5\n",
            "Second circle area: 78.53981633974483\n",
            "Third circle radius: 9\n",
            "Third circle area: 254.46900494077323\n"
          ]
        }
      ]
    },
    {
      "cell_type": "code",
      "source": [
        "#task_6\n",
        "class Triangle:\n",
        "    def __init__(self,base,height):\n",
        "        self.__b=base#private\n",
        "        self.__h=height#private\n",
        "\n",
        "    def getBase(self):\n",
        "        return self.__b\n",
        "    def getHeight(self):\n",
        "        return self.__h\n",
        "    def setBase(self,base):\n",
        "        self.__b=base\n",
        "    def setHeight(self,height):\n",
        "        self.__h=height\n",
        "\n",
        "    def area(self):\n",
        "        return .5*self.__b*self.__h\n",
        "    def __sub__(self, other):\n",
        "        a=self.__b-other.__b\n",
        "        b=self.__h-other.__h\n",
        "        return Triangle(a,b)\n",
        "t1 = Triangle(10, 5)\n",
        "print(\"First Triangle Base:\" , t1.getBase())\n",
        "print(\"First Triangle Height:\" , t1.getHeight())\n",
        "print(\"First Triangle area:\" ,t1.area())\n",
        "t2 = Triangle(5, 3)\n",
        "print(\"Second Triangle Base:\" , t2.getBase())\n",
        "print(\"Second Triangle Height:\" , t2.getHeight())\n",
        "print(\"Second Triangle area:\" ,t2.area())\n",
        "t3 = t1 - t2\n",
        "print(\"Third Triangle Base:\" , t3.getBase())\n",
        "print(\"Third Triangle Height:\" , t3.getHeight())\n",
        "print(\"Third Triangle area:\" ,t3.area())\n",
        "\n"
      ],
      "metadata": {
        "colab": {
          "base_uri": "https://localhost:8080/"
        },
        "id": "S62n_JJboyy8",
        "outputId": "bc433c18-f329-4126-9990-04693015d965"
      },
      "execution_count": null,
      "outputs": [
        {
          "output_type": "stream",
          "name": "stdout",
          "text": [
            "First Triangle Base: 10\n",
            "First Triangle Height: 5\n",
            "First Triangle area: 25.0\n",
            "Second Triangle Base: 5\n",
            "Second Triangle Height: 3\n",
            "Second Triangle area: 7.5\n",
            "Third Triangle Base: 5\n",
            "Third Triangle Height: 2\n",
            "Third Triangle area: 5.0\n"
          ]
        }
      ]
    },
    {
      "cell_type": "code",
      "source": [
        "#task_7\n",
        "class Dolls:\n",
        "    def __init__(self,doll,price):\n",
        "        self.doll=doll\n",
        "        self.price=price\n",
        "        self.c=1\n",
        "    def __gt__(self, other):\n",
        "        if self.price>other.price:\n",
        "            return True\n",
        "        else:\n",
        "            return False\n",
        "    def __add__(self, other):\n",
        "        a=self.doll +' '+other.doll\n",
        "        b=self.price +other.price\n",
        "        c=self.c+1\n",
        "        return Dolls(a,b)\n",
        "    def detail(self):\n",
        "        if self.c > 1:\n",
        "            return f'Dolls: {self.doll}\\n' + f'Total Price: {self.price} taka'\n",
        "        else:\n",
        "             return f'Doll: {self.doll}\\n' + f'Total Price: {self.price} taka'\n",
        "\n",
        "obj_1 = Dolls(\"Tweety\", 2500)\n",
        "print(obj_1.detail())\n",
        "if obj_1 > obj_1:\n",
        "    print(\"Congratulations! You get the Tweety as a gift!\")\n",
        "else:\n",
        "    print(\"Thank you!\")\n",
        "print(\"=========================\")\n",
        "obj_2 = Dolls(\"Daffy Duck\", 1800)\n",
        "print(obj_2.detail())\n",
        "if obj_2 > obj_1:\n",
        "    print(\"Congratulations! You get the Tweety as a gift!\")\n",
        "else:\n",
        "    print(\"Thank you!\")\n",
        "print(\"=========================\")\n",
        "obj_3 = Dolls(\"Bugs Bunny\", 3000)\n",
        "print(obj_3.detail())\n",
        "if obj_3 > obj_1:\n",
        "    print(\"Congratulations! You get the Tweety as a gift!\")\n",
        "else:\n",
        "    print(\"Thank you!\")\n",
        "print(\"=========================\")\n",
        "obj_4 = Dolls(\"Porky Pig\", 1500)\n",
        "print(obj_4.detail())\n",
        "if obj_4 > obj_1:\n",
        "    print(\"Congratulations! You get the Tweety as a gift!\")\n",
        "else:\n",
        "    print(\"Thank you!\")\n",
        "print(\"=========================\")\n",
        "obj_5 = obj_2 + obj_3\n",
        "print(obj_5.detail())\n",
        "if obj_5 > obj_1:\n",
        "    print(\"Congratulations! You get the Tweety as a gift!\")\n",
        "else:\n",
        "    print(\"Thank you!\")\n",
        "\n",
        "\n",
        "\n",
        "\n"
      ],
      "metadata": {
        "colab": {
          "base_uri": "https://localhost:8080/"
        },
        "id": "hVVICDpFrUxE",
        "outputId": "e09f38dc-bfa7-4815-9efc-3aa2e81981a5"
      },
      "execution_count": null,
      "outputs": [
        {
          "output_type": "stream",
          "name": "stdout",
          "text": [
            "Doll: Tweety\n",
            "Total Price: 2500 taka\n",
            "Thank you!\n",
            "=========================\n",
            "Doll: Daffy Duck\n",
            "Total Price: 1800 taka\n",
            "Thank you!\n",
            "=========================\n",
            "Doll: Bugs Bunny\n",
            "Total Price: 3000 taka\n",
            "Congratulations! You get the Tweety as a gift!\n",
            "=========================\n",
            "Doll: Porky Pig\n",
            "Total Price: 1500 taka\n",
            "Thank you!\n",
            "=========================\n",
            "Doll: Daffy Duck Bugs Bunny\n",
            "Total Price: 4800 taka\n",
            "Congratulations! You get the Tweety as a gift!\n"
          ]
        }
      ]
    },
    {
      "cell_type": "code",
      "source": [
        "#task_8\n",
        "class Coordinates:\n",
        "    def __init__(self,x,y):\n",
        "        self.x=x\n",
        "        self.y=y\n",
        "    def __sub__(self, other):\n",
        "        a=self.x-other.x\n",
        "        b=self.y-other.y\n",
        "        return Coordinates(a,b)\n",
        "    def __mul__(self, other):\n",
        "        a = self.x * other.x\n",
        "        b = self.y * other.y\n",
        "        return Coordinates(a, b)\n",
        "    def __eq__(self, other):\n",
        "        if self.x==other.x and self.y==other.y:\n",
        "            return \"The calculated coordinates same.\"\n",
        "        else:\n",
        "            return 'The calculated coordinates are NOT the same.'\n",
        "    def detail(self):\n",
        "        return (self.x,self.y)\n",
        "p1 = Coordinates(int(input()),int(input()))\n",
        "p2 = Coordinates(int(input()),int(input()))\n",
        "p4 = p1 - p2\n",
        "print(p4.detail())\n",
        "p5 = p1 * p2\n",
        "print(p5.detail())\n",
        "point_check = (p4 == p5)\n",
        "print(point_check)"
      ],
      "metadata": {
        "colab": {
          "base_uri": "https://localhost:8080/"
        },
        "id": "cqG4G3B5Im8h",
        "outputId": "8314a000-5df7-48da-bb0b-94d41c3e3c60"
      },
      "execution_count": null,
      "outputs": [
        {
          "output_type": "stream",
          "name": "stdout",
          "text": [
            "1\n",
            "2\n",
            "3\n",
            "4\n",
            "(-2, -2)\n",
            "(3, 8)\n",
            "The calculated coordinates are NOT the same.\n"
          ]
        }
      ]
    }
  ]
}