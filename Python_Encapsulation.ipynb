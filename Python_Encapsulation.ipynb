{
  "cells": [
    {
      "cell_type": "markdown",
      "source": [
        "# **Encapsulation: Private & Protected Attributes (Variables)**\n",
        "\n",
        "---\n",
        "\n"
      ],
      "metadata": {
        "id": "to_NH_jvOweg"
      }
    },
    {
      "cell_type": "code",
      "source": [
        "class Student:\n",
        "  def __init__(self, name, id, CGPA=0):\n",
        "    self.name = name    # PUBLIC instance variable \n",
        "    self.__id = id      # PRIVATE instance variable (double underscore before the variable name)\n",
        "    self._CGPA = CGPA   # PROTECTED instance variable (single underscore before the variable name)\n",
        "\n",
        "  # Getter and Setter for PRIVATE Variables\n",
        "\n",
        "  def get_id(self):     # only RETURNs the value of private variable     \n",
        "    return self.__id\n",
        "\n",
        "  def set_id(self, newID):    # SETs the value of private variable\n",
        "    if newID < 0:\n",
        "      print(\"Invalid ID. Please enter a correct ID number.\")\n",
        "    else:\n",
        "      self.__id = newID\n",
        "\n",
        "    # Getter and Setter for PROTECTED Variables\n",
        "\n",
        "  def get_CGPA(self):\n",
        "    return self._CGPA\n",
        "\n",
        "  def set_CGPA(self, newCGPA):    # only RETURNs the value of PROTECTED variable\n",
        "    if newCGPA < 0.00:\n",
        "      print(\"Invalid CGPA. Please enter a correct CGPA.\")    # SETs the value of PROTECTED variable\n",
        "    else:\n",
        "      self._CGPA = newCGPA\n",
        "\n",
        "  def printdetail(self):\n",
        "    print(f\"Name is {self.name}, ID is {self.get_id()} and CGPA is {self._CGPA}\")\n",
        "\n",
        "\n",
        "  \n",
        "s1 = Student(\"A\", 56)\n",
        "print(s1.name)\n",
        "# print(s1.id)      # AttributeError: 'Student' object has no attribute 'id' (Although, it has but can't find due to its PRIVACY)\n",
        "print(s1.get_id())\n",
        "\n",
        "s1.__id = 70 # No effect\n",
        "s1.set_id(70)\n",
        "print(s1.get_id())\n",
        "\n",
        "s2 = Student(\"B\", 67, 3.86)\n",
        "# print(s2.CGPA)      # AttributeError: 'Student' object has no attribute 'CGPA' (Although, it has but can't find due to its PROTECTION)\n",
        "print(s2.get_CGPA())\n",
        "\n",
        "s2.printdetail()"
      ],
      "metadata": {
        "id": "PcCCU-dGPKcN",
        "colab": {
          "base_uri": "https://localhost:8080/"
        },
        "outputId": "003f2ed7-96bf-438e-ed14-33285cf37854"
      },
      "execution_count": null,
      "outputs": [
        {
          "output_type": "stream",
          "name": "stdout",
          "text": [
            "A\n",
            "56\n",
            "70\n",
            "3.86\n",
            "Name is B, ID is 67 and CGPA is 3.86\n"
          ]
        }
      ]
    },
    {
      "cell_type": "code",
      "execution_count": null,
      "metadata": {
        "colab": {
          "base_uri": "https://localhost:8080/",
          "height": 36
        },
        "id": "pyRdXE5bKtFT",
        "outputId": "abbb2063-674b-462b-8527-f00d55324d78"
      },
      "outputs": [
        {
          "output_type": "execute_result",
          "data": {
            "text/plain": [
              "'James'"
            ],
            "application/vnd.google.colaboratory.intrinsic+json": {
              "type": "string"
            }
          },
          "metadata": {},
          "execution_count": 39
        }
      ],
      "source": [
        "class Student:\n",
        "  def __init__(self, name):\n",
        "    self.__name = name  # PRIVATE instance variable; with double underscore\n",
        "\n",
        "\n",
        "s1 = Student(\"James\")\n",
        "# s1.__age  #AttributeError: 'Student' object has no attribute '__age'\n",
        "s1._Student__name # Name Mangling; direct access to private variable 😨\n",
        "\n",
        "# Name Mangling syntax: objectName.className__privateVariableName"
      ]
    }
  ],
  "metadata": {
    "colab": {
      "provenance": []
    },
    "kernelspec": {
      "display_name": "Python 3",
      "name": "python3"
    },
    "language_info": {
      "name": "python"
    }
  },
  "nbformat": 4,
  "nbformat_minor": 0
}