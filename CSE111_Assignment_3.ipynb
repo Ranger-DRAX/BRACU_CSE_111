{
  "nbformat": 4,
  "nbformat_minor": 0,
  "metadata": {
    "colab": {
      "provenance": [],
      "collapsed_sections": []
    },
    "kernelspec": {
      "name": "python3",
      "display_name": "Python 3"
    },
    "language_info": {
      "name": "python"
    }
  },
  "cells": [
    {
      "cell_type": "code",
      "source": [
        "# task_1\n",
        "class Calculator:\n",
        "    # constructor\n",
        "    def __init__(self):\n",
        "        pass\n",
        "    def add(self,x,y):\n",
        "        return (x+y)\n",
        "    def subtract(self,x,y):\n",
        "        return(x-y)\n",
        "    def multiply(self,x,y):\n",
        "        return (x*y)\n",
        "    def divide(self,x,y):\n",
        "        return (x/y)\n",
        "#driver code\n",
        "c1=Calculator()\n",
        "a=int(input())\n",
        "s=input()\n",
        "b=int(input())\n",
        "print(\"Let's calculate!!\")\n",
        "print('value 1:',a)\n",
        "print('Operator:',s)\n",
        "print('Value 2:',b)\n",
        "result=0\n",
        "if s=='+':\n",
        "    result=c1.add(a,b)\n",
        "elif s=='-':\n",
        "    result=c1.subtract(a,b)\n",
        "\n",
        "\n",
        "elif s=='*':\n",
        "    result=c1.multiply(a,b)\n",
        "else:\n",
        "    result=c1.divide(a,b)\n",
        "print(result)"
      ],
      "metadata": {
        "colab": {
          "base_uri": "https://localhost:8080/"
        },
        "id": "vPp44CNQi30S",
        "outputId": "41e7a658-7f0c-4afb-f056-a0a4e430093e"
      },
      "execution_count": null,
      "outputs": [
        {
          "output_type": "stream",
          "name": "stdout",
          "text": [
            "1\n",
            "+\n",
            "2\n",
            "Let's calculate!!\n",
            "value 1: 1\n",
            "Operator: +\n",
            "Value 2: 2\n",
            "3\n"
          ]
        }
      ]
    },
    {
      "cell_type": "code",
      "source": [
        "#2\n",
        "class Course():\n",
        "    def __init__(self,c,f,s):\n",
        "        self.c=c\n",
        "        self.f=f\n",
        "        self.s=s\n",
        "    def detail(self):\n",
        "        k=f\"{self.c}-{self.f}-{self.s}\"\n",
        "        print(k)\n",
        "#driver_code\n",
        "c1 = Course(\"CSE110\", \"TBA\", 8)\n",
        "c1.detail()\n",
        "print(\"===============\")\n",
        "c2 = Course(\"CSE111\", \"TBA\", 9)\n",
        "c2.detail()"
      ],
      "metadata": {
        "colab": {
          "base_uri": "https://localhost:8080/"
        },
        "id": "ClY8ATMHi4Es",
        "outputId": "004436e1-27f8-4893-e033-b2c287c131e6"
      },
      "execution_count": null,
      "outputs": [
        {
          "output_type": "stream",
          "name": "stdout",
          "text": [
            "CSE110-TBA-8\n",
            "===============\n",
            "CSE111-TBA-9\n"
          ]
        }
      ]
    },
    {
      "cell_type": "code",
      "source": [
        "#3\n",
        "class Patient():\n",
        "    def __init__(self,n,a,w,h):\n",
        "        self.n=n\n",
        "        self.a=a\n",
        "        self.w=w\n",
        "        self.h=h\n",
        "    def printDetails(self):\n",
        "        print(\"Name:\",self.n)\n",
        "        print(\"Age:\",self.a)\n",
        "        print(\"Weight:\",self.w)\n",
        "        print(\"Height:\",self.h)\n",
        "        l=(self.h/100)**2\n",
        "        BMI=self.w/l\n",
        "        print('BMI:',BMI)\n",
        "\n",
        "p1 = Patient(\"A\", 55, 63.0, 158.0)\n",
        "p1.printDetails()\n",
        "print(\"====================\")\n",
        "p2 = Patient(\"B\", 53, 61.0, 149.0)\n",
        "p2.printDetails()"
      ],
      "metadata": {
        "colab": {
          "base_uri": "https://localhost:8080/"
        },
        "id": "enZ2vSYgi4IZ",
        "outputId": "c12f1e36-0148-4cf2-bc2c-ff54166ded75"
      },
      "execution_count": null,
      "outputs": [
        {
          "output_type": "stream",
          "name": "stdout",
          "text": [
            "Name: A\n",
            "Age: 55\n",
            "Weight: 63.0\n",
            "Height: 158.0\n",
            "BMI: 25.236340330075304\n",
            "====================\n",
            "Name: B\n",
            "Age: 53\n",
            "Weight: 61.0\n",
            "Height: 149.0\n",
            "BMI: 27.476239809017613\n"
          ]
        }
      ]
    },
    {
      "cell_type": "code",
      "source": [
        "#4\n",
        "class Vehicle:\n",
        "    def __init__(self):\n",
        "        self.x=0\n",
        "        self.y=0\n",
        "    def moveUp(self):\n",
        "        self.y+=1\n",
        "    def moveDown(self):\n",
        "        self.y-=1\n",
        "    def moveRight(self):\n",
        "        self.x+=1\n",
        "    def moveLeft(self):\n",
        "        self.x-=1\n",
        "    def print_position(self):\n",
        "        print((self.x,self.y))\n",
        "car = Vehicle()\n",
        "car.print_position()\n",
        "car.moveUp()\n",
        "car.print_position()\n",
        "car.moveLeft()\n",
        "car.print_position()\n",
        "car.moveDown()\n",
        "car.print_position()\n",
        "car.moveRight()"
      ],
      "metadata": {
        "colab": {
          "base_uri": "https://localhost:8080/"
        },
        "id": "Ez0EoI0Gi4K8",
        "outputId": "7e8b32a7-d443-44fb-e815-d1566cc3f876"
      },
      "execution_count": null,
      "outputs": [
        {
          "output_type": "stream",
          "name": "stdout",
          "text": [
            "(0, 0)\n",
            "(0, 1)\n",
            "(-1, 1)\n",
            "(-1, 0)\n"
          ]
        }
      ]
    },
    {
      "cell_type": "code",
      "source": [
        "#5\n",
        "class Shape:\n",
        "  def __init__(self,nam,x,y):\n",
        "    self.name=nam\n",
        "    self.x=x\n",
        "    self.y=y\n",
        "  def area(self):\n",
        "      if self.name=='Triangle':\n",
        "        print('Area:',.5*self.x*self.y)\n",
        "      elif self.name=='Square':\n",
        "        print('Area:',self.x*self.y)\n",
        "      elif self.name=='Rectangle':\n",
        "        print('Area:',self.x*self.y)\n",
        "      elif self.name=='Rhombus':\n",
        "        print('Area:',.5*self.x*self.y)\n",
        "      else:\n",
        "        print('Area:','shape unlnown')\n",
        "triangle = Shape(\"Triangle\",10,25)\n",
        "triangle.area()\n",
        "print(\"==========================\")\n",
        "square = Shape(\"Square\",10,10)\n",
        "square.area()\n",
        "print(\"==========================\")\n",
        "rhombus = Shape(\"Rhombus\",18,25)\n",
        "rhombus.area()\n",
        "print(\"==========================\")\n",
        "rectangle = Shape(\"Rectangle\",15,30)\n",
        "rectangle.area()\n",
        "print(\"==========================\")\n",
        "trapezium = Shape(\"Trapezium\",15,30)\n",
        "trapezium.area()"
      ],
      "metadata": {
        "colab": {
          "base_uri": "https://localhost:8080/"
        },
        "id": "uOSSfaEci4NT",
        "outputId": "914691d6-2c32-42ff-fdd8-edd566a50070"
      },
      "execution_count": null,
      "outputs": [
        {
          "output_type": "stream",
          "name": "stdout",
          "text": [
            "Area: 125.0\n",
            "==========================\n",
            "Area: 100\n",
            "==========================\n",
            "Area: 225.0\n",
            "==========================\n",
            "Area: 450\n",
            "==========================\n",
            "Area: shape unlnown\n"
          ]
        }
      ]
    },
    {
      "cell_type": "code",
      "source": [
        "#6\n",
        "class Calculator:\n",
        "  def __init__(self):\n",
        "    self.x=0\n",
        "    self.y=0\n",
        "    self.z=''\n",
        "    self.p=0\n",
        "    print('Calculator is ready!')\n",
        "  def calculate(self,x,y,z):\n",
        "    self.x=x\n",
        "    self.y=y\n",
        "    self.z=z\n",
        "    if z=='+':\n",
        "      self.p=x+y\n",
        "      return self.p\n",
        "    if z=='-':\n",
        "      self.p=x-y\n",
        "      return self.p\n",
        "    if z=='*':\n",
        "      self.p=x*y\n",
        "      return self.p\n",
        "    if z=='/':\n",
        "      self.p=x/y\n",
        "      return self.p\n",
        "  def showCalculation(self):\n",
        "    print(f'{self.x}{self.z}{self.y}={self.p}')\n",
        "c1 = Calculator()\n",
        "print(\"==================\")\n",
        "val = c1.calculate(10, 20, '+')\n",
        "print(\"Returned value:\", val)\n",
        "c1.showCalculation()\n",
        "print(\"==================\")\n",
        "val = c1.calculate(val, 10, '-')\n",
        "print(\"Returned value:\", val)\n",
        "c1.showCalculation()\n",
        "print(\"==================\")\n",
        "val = c1.calculate(val, 5, '*')\n",
        "print(\"Returned value:\", val)\n",
        "c1.showCalculation()\n",
        "print(\"==================\")\n",
        "val = c1.calculate(val, 16, '/')\n",
        "print(\"Returned value:\", val)\n",
        "c1.showCalculation()"
      ],
      "metadata": {
        "colab": {
          "base_uri": "https://localhost:8080/"
        },
        "id": "93-12-_ui4Pt",
        "outputId": "556e5f27-4b81-48dc-9076-c9fa57e15999"
      },
      "execution_count": null,
      "outputs": [
        {
          "output_type": "stream",
          "name": "stdout",
          "text": [
            "Calculator is ready!\n",
            "==================\n",
            "Returned value: 30\n",
            "10+20=30\n",
            "==================\n",
            "Returned value: 20\n",
            "30-10=20\n",
            "==================\n",
            "Returned value: 100\n",
            "20*5=100\n",
            "==================\n",
            "Returned value: 6.25\n",
            "100/16=6.25\n"
          ]
        }
      ]
    },
    {
      "cell_type": "code",
      "source": [
        "#7\n",
        "class Student:\n",
        "    def __init__(self,name,id,department,cgpa):\n",
        "        self.name=name\n",
        "        self.id=id\n",
        "        self.department=department\n",
        "        self.cgpa=cgpa\n",
        "        self.total_cgpa=0\n",
        "        self.total_cgpa_perfect=0\n",
        "    def calculate_CGPA(self):\n",
        "        for x in self.cgpa:\n",
        "            self.total_cgpa+=x\n",
        "        self.total_cgpa=self.total_cgpa/len(self.cgpa)\n",
        "        self.total_cgpa_perfect='{0:.3g}'.format(self.total_cgpa)\n",
        "    def print_details(self):\n",
        "        k = f\"Name: {self.name}, ID: {self.id}\"\n",
        "        print(k)\n",
        "        print(\"Department:\", self.department)\n",
        "        print('CGPA: ',self.total_cgpa_perfect)\n",
        "        if self.total_cgpa >=3.80:\n",
        "            print(\"Your academic standing is 'Highest Distinction'\")\n",
        "        elif self.total_cgpa >= 3.65:\n",
        "            print(\"Your academic standing is 'High Distinction'\")\n",
        "        elif self.total_cgpa >= 3.50:\n",
        "            print(\"Your academic standing is 'Distinction'\")\n",
        "        elif self.total_cgpa >= 2.00:\n",
        "            print(\"Your academic standing is 'Satisfactory'\")\n",
        "        else:\n",
        "            print(\"Sorry, you cannot graduate\")\n",
        "s1 = Student('Dora', '15995599','CSE', [4,3.7,3.7,4])\n",
        "s1.calculate_CGPA()\n",
        "print(\"==========================\")\n",
        "s1.print_details()\n",
        "print(\"==========================\")\n",
        "s2 = Student('Pingu', '12312322', 'EEE', [1.7,1.3,1.3,1.3,1])\n",
        "s2.calculate_CGPA()\n",
        "print(\"==========================\")\n",
        "s2.print_details()\n",
        "print(\"==========================\")\n",
        "s3 = Student('Bob', '13311331', 'CSE', [2,3,3,3.7,2.7,2.7])\n",
        "s3.calculate_CGPA()\n",
        "print(\"==========================\")\n",
        "s3.print_details()"
      ],
      "metadata": {
        "colab": {
          "base_uri": "https://localhost:8080/"
        },
        "id": "sOe18OZwhDE3",
        "outputId": "738f539e-b032-49ab-f953-4bf9e7734714"
      },
      "execution_count": null,
      "outputs": [
        {
          "output_type": "stream",
          "name": "stdout",
          "text": [
            "==========================\n",
            "Name: Dora, ID: 15995599\n",
            "Department: CSE\n",
            "CGPA:  3.85\n",
            "Your academic standing is 'Highest Distinction'\n",
            "==========================\n",
            "==========================\n",
            "Name: Pingu, ID: 12312322\n",
            "Department: EEE\n",
            "CGPA:  1.32\n",
            "Sorry, you cannot graduate\n",
            "==========================\n",
            "==========================\n",
            "Name: Bob, ID: 13311331\n",
            "Department: CSE\n",
            "CGPA:  2.85\n",
            "Your academic standing is 'Satisfactory'\n"
          ]
        }
      ]
    },
    {
      "cell_type": "code",
      "source": [
        "#8\n",
        "class Shinobi:\n",
        "    def __init__(self, name, rank):\n",
        "        self.name = name\n",
        "        self.rank = rank\n",
        "        self.missions = 0\n",
        "        self.salary = 0\n",
        "\n",
        "    def calSalary(self, missions):\n",
        "        self.missions = missions\n",
        "\n",
        "        if self.rank == \"Genin\":\n",
        "            self.salary = self.missions * 50\n",
        "        elif self.rank == \"Chunin\":\n",
        "            self.salary = self.missions * 100\n",
        "        else:\n",
        "            self.salary = self.missions * 500\n",
        "\n",
        "    def changeRank(self, rank):\n",
        "        self.rank = rank\n",
        "    def printInfo(self):\n",
        "        print(\"Name:\", self.name)\n",
        "        print(\"Rank:\", self.rank)\n",
        "        print(\"Number of mission:\", self.missions)\n",
        "        print(\"Salary:\", self.salary)\n",
        "naruto = Shinobi(\"Naruto\", \"Genin\")\n",
        "naruto.calSalary(5)\n",
        "naruto.printInfo()\n",
        "print('====================')\n",
        "shikamaru = Shinobi('Shikamaru', \"Genin\")\n",
        "shikamaru.printInfo()\n",
        "shikamaru.changeRank(\"Chunin\")\n",
        "shikamaru.calSalary(10)\n",
        "shikamaru.printInfo()\n",
        "print('====================')\n",
        "neiji = Shinobi(\"Neiji\", \"Jonin\")\n",
        "neiji.calSalary(5)\n",
        "neiji.printInfo()"
      ],
      "metadata": {
        "colab": {
          "base_uri": "https://localhost:8080/"
        },
        "id": "OpVjMeyvi4SO",
        "outputId": "52d9c20d-1aee-4db8-f3d3-7e75031e4c30"
      },
      "execution_count": null,
      "outputs": [
        {
          "output_type": "stream",
          "name": "stdout",
          "text": [
            "Name: Naruto\n",
            "Rank: Genin\n",
            "Number of mission: 5\n",
            "Salary: 250\n",
            "====================\n",
            "Name: Shikamaru\n",
            "Rank: Genin\n",
            "Number of mission: 0\n",
            "Salary: 0\n",
            "Name: Shikamaru\n",
            "Rank: Chunin\n",
            "Number of mission: 10\n",
            "Salary: 1000\n",
            "====================\n",
            "Name: Neiji\n",
            "Rank: Jonin\n",
            "Number of mission: 5\n",
            "Salary: 2500\n"
          ]
        }
      ]
    },
    {
      "cell_type": "code",
      "source": [
        "#9\n",
        "class Programmer:\n",
        "    def __init__(self,name,language,exp):\n",
        "        self.name=name\n",
        "        self.language=language\n",
        "        self.exp=exp\n",
        "        print('Horray! A new programmer is born')\n",
        "    def printDetails(self):\n",
        "        print(f\"Name:{self.name}\")\n",
        "        print(f\"Language:{self.language}\")\n",
        "        print(f\"Experience:{self.exp} years.\")\n",
        "\n",
        "    def addExp(self,n):\n",
        "        print(f\"Updating experience of {self.name}\")\n",
        "        self.exp+=n\n",
        "p1 = Programmer(\"Ethen Hunt\", \"Java\", 10)\n",
        "p1.printDetails()\n",
        "print('--------------------------')\n",
        "p2 = Programmer(\"James Bond\", \"C++\", 7)\n",
        "p2.printDetails()\n",
        "print('--------------------------')\n",
        "p3 = Programmer(\"Jon Snow\", \"Python\", 4)\n",
        "p3.printDetails()\n",
        "p3.addExp(5)\n",
        "p3.printDetails()"
      ],
      "metadata": {
        "colab": {
          "base_uri": "https://localhost:8080/"
        },
        "id": "ijhWr1mai4Um",
        "outputId": "5f99e9e4-b673-4bb2-9b04-9c82d323136f"
      },
      "execution_count": null,
      "outputs": [
        {
          "output_type": "stream",
          "name": "stdout",
          "text": [
            "Horray! A new programmer is born\n",
            "Name:Ethen Hunt\n",
            "Language:Java\n",
            "Experience:10 years.\n",
            "--------------------------\n",
            "Horray! A new programmer is born\n",
            "Name:James Bond\n",
            "Language:C++\n",
            "Experience:7 years.\n",
            "--------------------------\n",
            "Horray! A new programmer is born\n",
            "Name:Jon Snow\n",
            "Language:Python\n",
            "Experience:4 years.\n",
            "Updating experience of Jon Snow\n",
            "Name:Jon Snow\n",
            "Language:Python\n",
            "Experience:9 years.\n"
          ]
        }
      ]
    },
    {
      "cell_type": "code",
      "source": [
        "#10\n",
        "class UberEats:\n",
        "    def __init__(self,name,number,location):\n",
        "        self.name=name\n",
        "        self.number=number\n",
        "        self.location=location\n",
        "        self.food_1=''\n",
        "        self.food_2=''\n",
        "        self.food_1_price=''\n",
        "        self.food_2_price=''\n",
        "        print(self.name,', welcome to UberEats')\n",
        "    def add_items(self,a,b,c,d):\n",
        "        self.food_1 =a\n",
        "        self.food_2 =b\n",
        "        self.food_1_price =c\n",
        "        self.food_2_price =d\n",
        "    def print_order_detail(self):\n",
        "        print(f\"User details:{self.name},Phone:{self.number},Adress:{self.location}\")\n",
        "        f={}\n",
        "        f[self.food_1]=self.food_1_price\n",
        "        f[self.food_2]=self.food_2_price\n",
        "        print(f\"Orders:{f}\")\n",
        "        return (f\"Total paid Amount: {self.food_1_price+self.food_2_price}\")\n",
        "order1 = UberEats(\"Shakib\", \"01719658xxx\", \"Mohakhali\")\n",
        "print(\"=========================\")\n",
        "order1.add_items(\"Burger\", \"Coca Cola\", 220, 50)\n",
        "print(\"=========================\")\n",
        "print(order1.print_order_detail())\n",
        "print(\"=========================\")\n",
        "order2 = UberEats (\"Siam\", \"01719659xxx\", \"Uttara\")\n",
        "print(\"=========================\")\n",
        "order2.add_items(\"Pineapple\", \"Dairy Milk\", 80, 70)\n",
        "print(\"=========================\")\n",
        "print(order2.print_order_detail())"
      ],
      "metadata": {
        "colab": {
          "base_uri": "https://localhost:8080/"
        },
        "id": "l_zlzOa6i4YA",
        "outputId": "d1142fd6-6761-4adb-8603-a8182d27c29d"
      },
      "execution_count": null,
      "outputs": [
        {
          "output_type": "stream",
          "name": "stdout",
          "text": [
            "Shakib , welcome to UberEats\n",
            "=========================\n",
            "=========================\n",
            "User details:Shakib,Phone:01719658xxx,Adress:Mohakhali\n",
            "Orders:{'Burger': 220, 'Coca Cola': 50}\n",
            "Total paid Amount: 270\n",
            "=========================\n",
            "Siam , welcome to UberEats\n",
            "=========================\n",
            "=========================\n",
            "User details:Siam,Phone:01719659xxx,Adress:Uttara\n",
            "Orders:{'Pineapple': 80, 'Dairy Milk': 70}\n",
            "Total paid Amount: 150\n"
          ]
        }
      ]
    },
    {
      "cell_type": "code",
      "source": [
        "#11\n",
        "class Spotify:\n",
        "    def __init__(self,song_list):\n",
        "        self.song_list=song_list\n",
        "        print('Welcome to Spotify!')\n",
        "    def playing_number(self,n):\n",
        "        if n>len(self.song_list):\n",
        "            return f\"{n} number song not found.Your playlist has {len(self.song_list)} songs only.\\n##########################\"\n",
        "        elif n<len(self.song_list):\n",
        "            return f\"playing {n} song for you\\nSong name:{self.song_list[n-1]}\\n##########################\"\n",
        "        elif n==len(self.song_list):\n",
        "            return f\"playing {n} song for you\\nSong name:{self.song_list[n - 1]}\"\n",
        "    def add_to_playlist(self,song):\n",
        "        self.song_list.append(song)\n",
        "        print(self.song_list)\n",
        "user1 = Spotify([\"See You Again\", \"Uptown Funk\", \"Hello\"])\n",
        "print(\"=========================\")\n",
        "print(user1.playing_number(4))\n",
        "user1.add_to_playlist(\"Dusk Till Dawn\")\n",
        "print(user1.playing_number(3))\n",
        "print(user1.playing_number(4))"
      ],
      "metadata": {
        "colab": {
          "base_uri": "https://localhost:8080/"
        },
        "id": "mNKssOJLi4bY",
        "outputId": "3614b5cc-a937-47aa-ea77-6f36a408280e"
      },
      "execution_count": null,
      "outputs": [
        {
          "output_type": "stream",
          "name": "stdout",
          "text": [
            "Welcome to Spotify!\n",
            "=========================\n",
            "4 number song not found.Your playlist has 3 songs only.\n",
            "##########################\n",
            "['See You Again', 'Uptown Funk', 'Hello', 'Dusk Till Dawn']\n",
            "playing 3 song for you\n",
            "Song name:Hello\n",
            "##########################\n",
            "playing 4 song for you\n",
            "Song name:Dusk Till Dawn\n"
          ]
        }
      ]
    }
  ]
}