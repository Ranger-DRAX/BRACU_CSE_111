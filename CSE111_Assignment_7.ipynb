{
  "nbformat": 4,
  "nbformat_minor": 0,
  "metadata": {
    "colab": {
      "name": "CSE111_Assignment_7.ipynb",
      "provenance": []
    },
    "kernelspec": {
      "name": "python3",
      "display_name": "Python 3"
    },
    "language_info": {
      "name": "python"
    }
  },
  "cells": [
    {
      "cell_type": "code",
      "execution_count": null,
      "metadata": {
        "colab": {
          "base_uri": "https://localhost:8080/"
        },
        "id": "TuJ912MMDL3o",
        "outputId": "d9a57402-2354-4316-ea0b-08437fcb028b"
      },
      "outputs": [
        {
          "output_type": "stream",
          "name": "stdout",
          "text": [
            "Name: Default Department: BBA\n",
            "Name: Humpty Dumpty Department: BBA\n",
            "Name: Little Bo Peep Department: BBA\n"
          ]
        }
      ],
      "source": [
        "#task_1\n",
        "class Student:\n",
        "    def __init__(self, name='Just a student', dept='nothing'):\n",
        "        self.__name = name\n",
        "        self.__department = dept\n",
        "    def set_department(self, dept):\n",
        "        self.__department = dept\n",
        "    def get_name(self):\n",
        "        return self.__name\n",
        "    def set_name(self,name):\n",
        "        self.__name = name\n",
        "    def __str__(self):\n",
        "        return 'Name: '+self.__name+' Department: '+self.__department\n",
        "#write your code here\n",
        "class BBA_Student(Student):\n",
        "    def __init__(self,name='Default',dept='BBA'):\n",
        "        super().__init__(name,dept)\n",
        "        \n",
        "print(BBA_Student())\n",
        "print(BBA_Student('Humpty Dumpty'))\n",
        "print(BBA_Student('Little Bo Peep'))"
      ]
    },
    {
      "cell_type": "code",
      "source": [
        "#Task_2\n",
        "class Vehicle: \n",
        "    def __init__(self): \n",
        "        self.x = 0 \n",
        "        self.y = 0 \n",
        "    def moveUp(self): \n",
        "        self.y+=1 \n",
        "    def moveDown(self): \n",
        "        self.y-=1 \n",
        "    def moveRight(self): \n",
        "        self.x+=1 \n",
        "    def moveLeft(self): \n",
        "        self.x-=1 \n",
        "    def __str__(self): \n",
        "        return '('+str(self.x)+' , '+str(self.y)+')' \n",
        "        \n",
        "class Vehicle2010(Vehicle):\n",
        "    def __init__(self):\n",
        "        super().__init__()\n",
        "    def moveLowerLeft(self):\n",
        "        self.moveDown()\n",
        "        self.moveLeft()\n",
        "    def moveLowerRight(self):\n",
        "        self.moveDown()\n",
        "        self.moveRight()\n",
        "    def moveUpperLeft(self):\n",
        "        self.moveUp()\n",
        "        self.moveLeft()\n",
        "    def moveUpperRight(self):\n",
        "        self.moveUp()\n",
        "        self.moveRight()\n",
        "    \n",
        "    def equals(self, vehicle):\n",
        "        if self.x == vehicle.x and self.y == vehicle.y:\n",
        "            return True\n",
        "        else:\n",
        "            return False\n",
        "\n",
        "\n",
        "\n",
        "print('Part 1') \n",
        "print('------') \n",
        "car = Vehicle() \n",
        "print(car) \n",
        "car.moveUp() \n",
        "print(car) \n",
        "car.moveLeft() \n",
        "print(car) \n",
        "car.moveDown() \n",
        "print(car) \n",
        "car.moveRight() \n",
        "print(car) \n",
        "print('------') \n",
        "print('Part 2') \n",
        "print('------') \n",
        "car1 = Vehicle2010() \n",
        "print(car1) \n",
        "car1.moveLowerLeft() \n",
        "print(car1) \n",
        "car2 = Vehicle2010() \n",
        "car2.moveLeft() \n",
        "print(car1.equals(car2)) \n",
        "car2.moveDown() \n",
        "print(car1.equals(car2))"
      ],
      "metadata": {
        "colab": {
          "base_uri": "https://localhost:8080/"
        },
        "id": "m0dlyoLDwD6H",
        "outputId": "3605785d-2025-40f0-a769-d495a1e6fb09"
      },
      "execution_count": null,
      "outputs": [
        {
          "output_type": "stream",
          "name": "stdout",
          "text": [
            "Part 1\n",
            "------\n",
            "(0 , 0)\n",
            "(0 , 1)\n",
            "(-1 , 1)\n",
            "(-1 , 0)\n",
            "(0 , 0)\n",
            "------\n",
            "Part 2\n",
            "------\n",
            "(0 , 0)\n",
            "(-1 , -1)\n",
            "False\n",
            "True\n"
          ]
        }
      ]
    },
    {
      "cell_type": "code",
      "source": [
        "#task_3\n",
        "class Tournament:\n",
        "    def __init__(self,name='Default'):\n",
        "        self.__name = name\n",
        "    def set_name(self,name):\n",
        "        self.__name = name\n",
        "    def get_name(self):\n",
        "        return self.__name\n",
        "#write your code here\n",
        "class Cricket_Tournament(Tournament):\n",
        "    def __init__(self,*list):\n",
        "        self.teams=0\n",
        "        self.type=''\n",
        "        if len(list)==0:\n",
        "            super(Cricket_Tournament, self).__init__('Default')\n",
        "            self.name='Default'\n",
        "            self.teams=0\n",
        "            self.type='No type'\n",
        "        else:\n",
        "            super(Cricket_Tournament, self).__init__(list[0])\n",
        "            self.name = list[0]\n",
        "            self.teams =list[1]\n",
        "            self.type =list[2]\n",
        "    def detail(self):\n",
        "        return f\"Cricket Tournament Name:{self.name}\\nNumber of Teams:{self.teams}\\nType:{self.type}\"\n",
        "class Tennis_Tournament(Tournament):\n",
        "    def __init__(self,namx,players):\n",
        "        super(Tennis_Tournament, self).__init__(namx)\n",
        "        self.name=namx\n",
        "        self.players=players\n",
        "    def detail(self):\n",
        "        return f\"Tennis Tournament Name:{self.name}\\nNumber of Players: {self.players}\"\n",
        "ct1 = Cricket_Tournament()\n",
        "print(ct1.detail())\n",
        "print(\"-----------------------\")\n",
        "ct2 = Cricket_Tournament(\"IPL\",10,\"t20\")\n",
        "print(ct2.detail())\n",
        "print(\"-----------------------\")\n",
        "tt = Tennis_Tournament(\"Roland Garros\",128)\n",
        "print(tt.detail())\n",
        "\n",
        "\n"
      ],
      "metadata": {
        "colab": {
          "base_uri": "https://localhost:8080/"
        },
        "id": "t04BI_gzwEmp",
        "outputId": "8d42f1ea-a7aa-4dd0-89f8-b18f4efb4e6a"
      },
      "execution_count": null,
      "outputs": [
        {
          "output_type": "stream",
          "name": "stdout",
          "text": [
            "Cricket Tournament Name:Default\n",
            "Number of Teams:0\n",
            "Type:No type\n",
            "-----------------------\n",
            "Cricket Tournament Name:IPL\n",
            "Number of Teams:10\n",
            "Type:t20\n",
            "-----------------------\n",
            "Tennis Tournament Name:Roland Garros\n",
            "Number of Players: 128\n"
          ]
        }
      ]
    },
    {
      "cell_type": "code",
      "source": [
        "#task_4\n",
        "class Product:\n",
        "    def __init__(self,id, title, price):\n",
        "        self.__id = id\n",
        "        self.__title = title\n",
        "        self.__price = price\n",
        "    def get_id_title_price(self):\n",
        "        return \"ID: \"+str(self.__id)+\" Title:\"+self.__title+        \"Price: \"+str(self.__price)\n",
        "\n",
        "class Book(Product):\n",
        "    def __init__(self,id,titlex,pricey,isbn,publisher):\n",
        "        super(Book, self).__init__(id,titlex,pricey)\n",
        "        self.id=id\n",
        "        self.title=titlex\n",
        "        self.price=pricey\n",
        "        self.isbn=isbn\n",
        "        self.publisher=publisher\n",
        "    def printDetail(self):\n",
        "        return f\"ID:{self.id} Title:{self.title} Price:{self.price}\\nISBN:{self.isbn} Publisher:{self.publisher}\"\n",
        "class CD(Product):\n",
        "    def __init__(self,a,b,c,d,e,f):\n",
        "        self.id =a\n",
        "        self.title =b\n",
        "        self.price =c\n",
        "        self.Band =d\n",
        "        self.du =e\n",
        "        self.genre=f\n",
        "    def printDetail(self):\n",
        "        return f\"ID:{self.id} Title:{self.title} Price:{self.price}\\nBAND:{self.Band} Duration:{self.du}\\nGenre:{self.genre}\"\n",
        "\n",
        "book = Book(1,\"The Alchemist\",500,\"97806\",\"HarperCollins\")\n",
        "print(book.printDetail())\n",
        "print(\"-----------------------\")\n",
        "cd = CD(2,\"Shotto\",300,\"Warfaze\",50,\"Hard Rock\")\n",
        "print(cd.printDetail())\n"
      ],
      "metadata": {
        "colab": {
          "base_uri": "https://localhost:8080/"
        },
        "id": "3Uyw8EvfwPxy",
        "outputId": "25d9062a-cf51-4bdb-9a21-c2a817333506"
      },
      "execution_count": null,
      "outputs": [
        {
          "output_type": "stream",
          "name": "stdout",
          "text": [
            "ID:1 Title:The Alchemist Price:500\n",
            "ISBN:97806 Publisher:HarperCollins\n",
            "-----------------------\n",
            "ID:2 Title:Shotto Price:300\n",
            "BAND:Warfaze Duration:50\n",
            "Genre:Hard Rock\n"
          ]
        }
      ]
    },
    {
      "cell_type": "code",
      "source": [
        "#task_5\n",
        "class Animal: \n",
        "    def __init__(self,sound): \n",
        "        self.__sound = sound \n",
        "    def makeSound(self): \n",
        "        return self.__sound \n",
        "class Printer: \n",
        "    def printSound(self, a): \n",
        "        print(a.makeSound()) \n",
        "\n",
        "class Dog(Animal):\n",
        "    def __init__(self, sound):\n",
        "        super().__init__(sound)\n",
        "\n",
        "class Cat(Animal):\n",
        "    def __init__(self, sound):\n",
        "        super().__init__(sound)\n",
        "\n",
        "\n",
        "d1 = Dog('bark') \n",
        "c1 = Cat('meow') \n",
        "a1 = Animal('Animal does not make sound') \n",
        "pr = Printer() \n",
        "pr.printSound(a1) \n",
        "pr.printSound(c1) \n",
        "pr.printSound(d1)"
      ],
      "metadata": {
        "colab": {
          "base_uri": "https://localhost:8080/"
        },
        "id": "jRNiWgsSwT59",
        "outputId": "239a6764-0884-4b94-dedb-0ea465035887"
      },
      "execution_count": null,
      "outputs": [
        {
          "output_type": "stream",
          "name": "stdout",
          "text": [
            "Animal does not make sound\n",
            "meow\n",
            "bark\n"
          ]
        }
      ]
    },
    {
      "cell_type": "code",
      "source": [
        "#task_6\n",
        "class Shape: \n",
        "    def __init__(self, name='Default', height=0, base=0): \n",
        "        self.area = 0 \n",
        "        self.name = name \n",
        "        self.height = height \n",
        "        self.base = base \n",
        "    def get_height_base(self): \n",
        "        return \"Height: \"+str(self.height)+\",Base: \"+str(self.base) \n",
        "\n",
        "class triangle(Shape):\n",
        "    def __init__(self, name = 'Default', height = 0, base = 0):\n",
        "        super().__init__(name, height, base)\n",
        "        self.area = 0\n",
        "    def calcArea(self):\n",
        "        self.area = self.height * self.base * 0.5\n",
        "    \n",
        "    def printDetail(self):\n",
        "        output = 'Shape name: ' + self.name + '\\n'\n",
        "        output += self.get_height_base()\n",
        "        output += '\\nArea: ' + str(self.area)\n",
        "        return output\n",
        "\n",
        "class trapezoid(Shape):\n",
        "    def __init__(self, name, height, base, side_a):\n",
        "        super().__init__(name, height, base)\n",
        "        self.side_a = side_a\n",
        "        self.area = 0\n",
        "    def calcArea(self):\n",
        "        self.area = ((self.side_a + self.base) / 2) * self.height\n",
        "    \n",
        "    def printDetail(self):\n",
        "        output = 'Shape name: ' + self.name + '\\n'\n",
        "        output += self.get_height_base()\n",
        "        output += '\\nArea: ' + str(self.area)\n",
        "        return output\n",
        "\n",
        "tri_default = triangle() \n",
        "tri_default.calcArea() \n",
        "print(tri_default.printDetail()) \n",
        "print('--------------------------') \n",
        "tri = triangle('Triangle', 10, 5) \n",
        "tri.calcArea() \n",
        "print(tri.printDetail()) \n",
        "print('---------------------------') \n",
        "trap = trapezoid('Trapezoid', 10, 6, 4) \n",
        "trap.calcArea() \n",
        "print(trap.printDetail())"
      ],
      "metadata": {
        "colab": {
          "base_uri": "https://localhost:8080/"
        },
        "id": "IZk1lTtJwZDo",
        "outputId": "aca23736-6e85-4956-a08f-d17fd64533d1"
      },
      "execution_count": null,
      "outputs": [
        {
          "output_type": "stream",
          "name": "stdout",
          "text": [
            "Shape name: Default\n",
            "Height: 0,Base: 0\n",
            "Area: 0.0\n",
            "--------------------------\n",
            "Shape name: Triangle\n",
            "Height: 10,Base: 5\n",
            "Area: 25.0\n",
            "---------------------------\n",
            "Shape name: Trapezoid\n",
            "Height: 10,Base: 6\n",
            "Area: 50.0\n"
          ]
        }
      ]
    },
    {
      "cell_type": "code",
      "source": [
        "class Football:\n",
        "  def __init__(self, team_name, name, role):\n",
        "    self.__team = team_name\n",
        "    self.__name = name\n",
        "    self.role = role\n",
        "    self.earning_per_match = 0\n",
        "  def get_name_team(self):\n",
        "    return 'Name: '+self.__name+', Team Name: ' +self.__team\n",
        "class  Player(Football):\n",
        "    def __init__(self,team_name, name, role,goal,match):\n",
        "        super(Player, self).__init__(team_name, name, role)\n",
        "        self.team=team_name\n",
        "        self.name=name\n",
        "        self.pos=role\n",
        "        self.goal=goal\n",
        "        self.match=match\n",
        "        self.ratio=0\n",
        "    def calculate_ratio(self):\n",
        "        #a=(self.goal*1000)+(self.match*10)\n",
        "        b=self.goal/self.match\n",
        "        self.ratio=b\n",
        "    def print_details(self):\n",
        "        #print('Name:',self.name,', Team Name:',self.team) ***for calling any method from parent class\n",
        "        \n",
        "        #print(self.get_name_team())\n",
        "        print(Football.get_name_team(self))\n",
        "        #print(Player.get_name_team(self))\n",
        "        print('team Role:',self.pos)\n",
        "        print(f\"Total Goal:{self.goal},Total Played:{self.match}\")\n",
        "        print('Goal Ratio:', self.ratio)\n",
        "        #print('Match Earnings:', (self.goal * 1000) + (self.match * 10))\n",
        "        print(f\"Match earningL:{self.goal * 1000+ self.match * 10}k\")\n",
        "\n",
        "class Manager(Football):\n",
        "    def __init__(self,team_name,coach,role,win):\n",
        "        super(Manager, self).__init__(team_name,coach,role)\n",
        "        self.team=team_name\n",
        "        self.name=coach\n",
        "        self.role=role\n",
        "        self.win=win\n",
        "        self.earn=self.win*1000\n",
        "    def print_details(self):\n",
        "        print(Football.get_name_team(self))\n",
        "        print('Team Role:',self.role)\n",
        "        print('Total Win:',self.win)\n",
        "        print(f\"Match earningL:{self.earn}k\")\n",
        "player_one = Player('Juventus', 'Ronaldo', 'Striker', 25, 32)\n",
        "player_one.calculate_ratio()\n",
        "player_one.print_details()\n",
        "print('------------------------------------------')\n",
        "manager_one = Manager('Real Madrid', 'Zidane', 'Manager', 25)\n",
        "manager_one.print_details()\n"
      ],
      "metadata": {
        "id": "CrEyGkd1wn6G",
        "outputId": "cc8d44d9-4c60-4940-e9ac-420da2743976",
        "colab": {
          "base_uri": "https://localhost:8080/"
        }
      },
      "execution_count": null,
      "outputs": [
        {
          "output_type": "stream",
          "name": "stdout",
          "text": [
            "Name: Ronaldo, Team Name: Juventus\n",
            "team Role: Striker\n",
            "Total Goal:25,Total Played:32\n",
            "Goal Ratio: 0.78125\n",
            "Match earningL:25320k\n",
            "------------------------------------------\n",
            "Name: Zidane, Team Name: Real Madrid\n",
            "Team Role: Manager\n",
            "Total Win: 25\n",
            "Match earningL:25000k\n"
          ]
        }
      ]
    }
  ]
}