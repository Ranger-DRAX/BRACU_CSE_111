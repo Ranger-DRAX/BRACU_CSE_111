{
  "nbformat": 4,
  "nbformat_minor": 0,
  "metadata": {
    "colab": {
      "provenance": []
    },
    "kernelspec": {
      "name": "python3",
      "display_name": "Python 3"
    },
    "language_info": {
      "name": "python"
    }
  },
  "cells": [
    {
      "cell_type": "code",
      "source": [
        "\n",
        "#task-1\n",
        "class Customer:\n",
        "    def __init__(self,name):\n",
        "        self.name=name\n",
        "    def greet(self,n=None):\n",
        "        if n==None:\n",
        "            print(f\"Hello!\")\n",
        "        elif n!=None:\n",
        "            print(f\"Hello {self.name}!\")\n",
        "    def purchase(self,*list):\n",
        "        c=0\n",
        "        for x in list:\n",
        "            c+=1\n",
        "        print(f\"{self.name}, you purchased {c} items:\")\n",
        "        for y in list:\n",
        "            print(y)\n",
        "customer_1 = Customer(\"Sam\")\n",
        "customer_1.greet()\n",
        "customer_1.purchase(\"chips\", \"chocolate\", \"orange juice\")\n",
        "print(\"-----------------------------\")\n",
        "customer_2 = Customer(\"David\")\n",
        "customer_2.greet(\"David\")\n",
        "customer_2.purchase(\"orange juice\")"
      ],
      "metadata": {
        "colab": {
          "base_uri": "https://localhost:8080/"
        },
        "id": "zSQn2VzDvK3I",
        "outputId": "7a5188e1-79dc-4fca-a563-571332190f8b"
      },
      "execution_count": null,
      "outputs": [
        {
          "output_type": "stream",
          "name": "stdout",
          "text": [
            "Hello!\n",
            "Sam, you purchased 3 items:\n",
            "chips\n",
            "chocolate\n",
            "orange juice\n",
            "-----------------------------\n",
            "Hello David!\n",
            "David, you purchased 1 items:\n",
            "orange juice\n"
          ]
        }
      ]
    },
    {
      "cell_type": "code",
      "source": [
        "#task-2\n",
        "class Panda:\n",
        "    def __init__(self,name,gender,age):\n",
        "        self.name=name\n",
        "        self.gender=gender\n",
        "        self.age=age\n",
        "    def sleep(self,sleep=None):\n",
        "        if sleep!=None:\n",
        "            if sleep<=5:\n",
        "                return (f\"{self.name} sleeps {sleep} hours daily and should have Mixed Veggies\")\n",
        "            elif sleep>=6 and sleep<9:\n",
        "                return (f\"{self.name} sleeps {sleep} hours daily and should have Eggplant and tofu\")\n",
        "            elif sleep>=9 and sleep<=11:\n",
        "                return (f\"{self.name} sleeps {sleep} hours daily and should have Brocli Chiken\")\n",
        "        else:\n",
        "            return (f\"{self.name} duration is unknown thus should have only bamboo leaves\")\n",
        "panda1 = Panda(\"Kunfu\",\"Male\", 5)\n",
        "panda2=Panda(\"Pan Pan\",\"Female\",3)\n",
        "panda3=Panda(\"Ming Ming\",\"Female\",8)\n",
        "print(\"{} is a {} Panda Bear who is {} years old\".format(panda1.name,panda1.gender,panda1.age))\n",
        "print(\"{} is a {} Panda Bear who is {} years old\".format(panda2.name,panda2.gender,panda2.age))\n",
        "print(\"{} is a {} Panda Bear who is {} years old\".format(panda3.name,panda3.gender,panda3.age))\n",
        "print(\"===========================\")\n",
        "print(panda2.sleep(10))\n",
        "print(panda1.sleep(4))\n",
        "print(panda3.sleep())"
      ],
      "metadata": {
        "colab": {
          "base_uri": "https://localhost:8080/"
        },
        "id": "YIPwhODZvMXQ",
        "outputId": "e77946ab-11fd-43ad-8447-668581c7adf9"
      },
      "execution_count": null,
      "outputs": [
        {
          "output_type": "stream",
          "name": "stdout",
          "text": [
            "Kunfu is a Male Panda Bear who is 5 years old\n",
            "Pan Pan is a Female Panda Bear who is 3 years old\n",
            "Ming Ming is a Female Panda Bear who is 8 years old\n",
            "===========================\n",
            "Pan Pan sleeps 10 hours daily and should have Brocli Chiken\n",
            "Kunfu sleeps 4 hours daily and should have Mixed Veggies\n",
            "Ming Ming duration is unknown thus should have only bamboo leaves\n"
          ]
        }
      ]
    },
    {
      "cell_type": "code",
      "execution_count": null,
      "metadata": {
        "colab": {
          "base_uri": "https://localhost:8080/"
        },
        "id": "ggXvqL9eapqA",
        "outputId": "fbe9b618-7f84-4edf-96be-1a87e47c09a7"
      },
      "outputs": [
        {
          "output_type": "stream",
          "name": "stdout",
          "text": [
            "White Cat is sitting\n",
            "Black Cat is sitting\n",
            "Brown Cat is jumping\n",
            "Red Cat is purring\n",
            "Blue Cat is sitting\n",
            "Purple Cat is jumping\n"
          ]
        }
      ],
      "source": [
        "\n",
        "#task-3\n",
        "class Cat:\n",
        "\n",
        "    def __init__(self,color='White',move='sitting'):\n",
        "        self.color=color\n",
        "        self.move=move\n",
        "    def printCat(self):\n",
        "        print(f\"{self.color} Cat is {self.move}\")\n",
        "    def changeColor(self,new_color):\n",
        "        self.color=new_color\n",
        "\n",
        "c1 = Cat()\n",
        "c2 = Cat(\"Black\")\n",
        "c3 = Cat(\"Brown\", \"jumping\")\n",
        "c4 = Cat(\"Red\", \"purring\")\n",
        "c1.printCat()\n",
        "c2.printCat()\n",
        "c3.printCat()\n",
        "c4.printCat()\n",
        "c1.changeColor(\"Blue\")\n",
        "c3.changeColor(\"Purple\")\n",
        "c1.printCat()\n",
        "c3.printCat()"
      ]
    },
    {
      "cell_type": "code",
      "source": [
        "#task-4\n",
        "class Student:\n",
        "    def __init__(self,name=None):\n",
        "        if name!=None:\n",
        "            self.name=name\n",
        "        else:\n",
        "            self.name='default student'\n",
        "        self.num=0\n",
        "    def quizcalc(self,*data):\n",
        "        if len(data)==1:\n",
        "            self.num+=data[0]\n",
        "        elif len(data)==2:\n",
        "            self.num += data[0]\n",
        "            self.num += data[1]\n",
        "        elif len(data)==3:\n",
        "            self.num += data[0]\n",
        "            self.num += data[1]\n",
        "            self.num += data[2]\n",
        "    def printdetail(self):\n",
        "        print(f\"Hello {self.name}\")\n",
        "        print(f\"Your average quiz score is {self.num/3}\")\n",
        "s1 = Student()\n",
        "s1.quizcalc(10)\n",
        "print('--------------------------------')\n",
        "s1.printdetail()\n",
        "s2 = Student('Harry')\n",
        "s2.quizcalc(10,8)\n",
        "print('--------------------------------')\n",
        "s2.printdetail()\n",
        "s3 = Student('Hermione')\n",
        "s3.quizcalc(10,9,10)\n",
        "print('--------------------------------')\n",
        "s3.printdetail()\n"
      ],
      "metadata": {
        "id": "6urxmZGpvS63",
        "outputId": "dcd6ea2d-2dcd-4485-a70e-268d7843c349",
        "colab": {
          "base_uri": "https://localhost:8080/"
        }
      },
      "execution_count": null,
      "outputs": [
        {
          "output_type": "stream",
          "name": "stdout",
          "text": [
            "--------------------------------\n",
            "Hello default student\n",
            "Your average quiz score is 3.3333333333333335\n",
            "--------------------------------\n",
            "Hello Harry\n",
            "Your average quiz score is 6.0\n",
            "--------------------------------\n",
            "Hello Hermione\n",
            "Your average quiz score is 9.666666666666666\n"
          ]
        }
      ]
    },
    {
      "cell_type": "code",
      "source": [
        "#task-5\n",
        "class Student:\n",
        "    def __init__(self,name,id,dept='CSE'):\n",
        "        self.name=name\n",
        "        self.id=id\n",
        "        self.hr=0\n",
        "        self.dept=dept\n",
        "        self.suggestion=''\n",
        "    def dailyEffort(self,hour):\n",
        "        self.hr=hour\n",
        "    def printDetails(self):\n",
        "        print(f\"Name:{self.name}\")\n",
        "        print(f\"ID:{self.id}\")\n",
        "        print(f\"Department:{self.dept}\")\n",
        "        print(f\"Daily Effort: {self.hr}hour(s)\")\n",
        "        if self.hr<=2:\n",
        "            print('Should give more effort!')\n",
        "        elif self.hr<=4 and self.hr>2:\n",
        "            print('Keep up the good work!')\n",
        "        else:\n",
        "            print('Excellent! Now motivate others.')\n",
        "harry = Student('Harry Potter', 123)\n",
        "harry.dailyEffort(3)\n",
        "harry.printDetails()\n",
        "print('========================')\n",
        "john = Student(\"John Wick\", 456, \"BBA\")\n",
        "john.dailyEffort(2)\n",
        "john.printDetails()\n",
        "print('========================')\n",
        "naruto = Student(\"Naruto Uzumaki\", 777, \"Ninja\")\n",
        "naruto.dailyEffort(6)\n",
        "naruto.printDetails()"
      ],
      "metadata": {
        "id": "RNmjx6nvecpb",
        "colab": {
          "base_uri": "https://localhost:8080/"
        },
        "outputId": "41b99602-c976-4bef-d421-58fa140135d9"
      },
      "execution_count": null,
      "outputs": [
        {
          "output_type": "stream",
          "name": "stdout",
          "text": [
            "Name:Harry Potter\n",
            "ID:123\n",
            "Department:CSE\n",
            "Daily Effort: 3hour(s)\n",
            "Keep up the good work!\n",
            "========================\n",
            "Name:John Wick\n",
            "ID:456\n",
            "Department:BBA\n",
            "Daily Effort: 2hour(s)\n",
            "Should give more effort!\n",
            "========================\n",
            "Name:Naruto Uzumaki\n",
            "ID:777\n",
            "Department:Ninja\n",
            "Daily Effort: 6hour(s)\n",
            "Excellent! Now motivate others.\n"
          ]
        }
      ]
    },
    {
      "cell_type": "code",
      "source": [
        "#task-6\n",
        "class Patient:\n",
        "    def __init__(self,name,age):\n",
        "        self.name, self.age=name,age\n",
        "        self.symptomps=''\n",
        "    def add_Symptom(self,*x):\n",
        "        if len(x)==1:\n",
        "            self.symptomps +=f'{x[0]}'\n",
        "        elif len(x)==2:\n",
        "            self.symptomps += f'{x[0]},'\n",
        "            self.symptomps += f'{x[1]}'\n",
        "        elif len(x)==3:\n",
        "            self.symptomps += f'{x[0]},'\n",
        "            self.symptomps += f'{x[1]},'\n",
        "            self.symptomps += f'{x[2]}'\n",
        "    def printPatientDetail(self):\n",
        "        print(f\"Name: {self.name}\")\n",
        "        print(f\"Age: {self.age}\")\n",
        "        print(f\"Symptoms:{self.symptomps}\")\n",
        "p1 = Patient('Thomas', 23)\n",
        "p1.add_Symptom('Headache')\n",
        "p2 = Patient('Carol', 20)\n",
        "p2.add_Symptom('Vomiting', 'Coughing')\n",
        "p3 = Patient('Mike', 25)\n",
        "p3.add_Symptom('Fever', 'Headache', 'Coughing')\n",
        "print(\"=========================\")\n",
        "p1.printPatientDetail()\n",
        "print(\"=========================\")\n",
        "p2.printPatientDetail()\n",
        "print(\"=========================\")\n",
        "p3.printPatientDetail()"
      ],
      "metadata": {
        "id": "bvFBtEPsqHPZ",
        "colab": {
          "base_uri": "https://localhost:8080/"
        },
        "outputId": "0e5bf2b6-8e59-49aa-b321-0e3cce683a30"
      },
      "execution_count": null,
      "outputs": [
        {
          "output_type": "stream",
          "name": "stdout",
          "text": [
            "=========================\n",
            "Name: Thomas\n",
            "Age: 23\n",
            "Symptoms:Headache\n",
            "=========================\n",
            "Name: Carol\n",
            "Age: 20\n",
            "Symptoms:Vomiting,Coughing\n",
            "=========================\n",
            "Name: Mike\n",
            "Age: 25\n",
            "Symptoms:Fever,Headache,Coughing\n"
          ]
        }
      ]
    },
    {
      "cell_type": "code",
      "source": [
        "#task-7\n",
        "class Match:\n",
        "    def __init__(self,team):\n",
        "        self.team=team.split('-')\n",
        "        self.a=self.team[0]\n",
        "        self.b=self.team[1]\n",
        "        self.run=0\n",
        "        self.wicket=0\n",
        "        self.over=0\n",
        "        print('5..4..3..2..1.. Play !!!')\n",
        "    def add_run(self,r):\n",
        "        self.run+=r\n",
        "    def add_over(self,o):\n",
        "        if o!=5:\n",
        "            self.over+=o\n",
        "        else:\n",
        "            print(f\"Warning! Cannot add {o} Over/s({o} Over Match)\")\n",
        "    def add_wicket(self,w):\n",
        "        self.wicket+=w\n",
        "    def print_scoreboard(self):\n",
        "        return (f\"Batting Team:{self.a}\\nBowling Team:{self.b}\\nTotal Runs:{self.run} Wickets:{self.wicket} Overs:{self.over}\")\n",
        "match1 = Match(\"Rangpur Riders-Cumilla Victorians\")\n",
        "print(\"=========================\")\n",
        "match1.add_run(4)\n",
        "match1.add_run(6)\n",
        "match1.add_over(1)\n",
        "print(match1.print_scoreboard())\n",
        "print(\"=========================\")\n",
        "match1.add_over(5)\n",
        "print(\"=========================\")\n",
        "match1.add_wicket(1)\n",
        "print(match1.print_scoreboard())\n"
      ],
      "metadata": {
        "id": "IPCU-Md8qJ_H",
        "colab": {
          "base_uri": "https://localhost:8080/"
        },
        "outputId": "ae15d724-5ed0-419e-a369-5a22239e4cbd"
      },
      "execution_count": null,
      "outputs": [
        {
          "output_type": "stream",
          "name": "stdout",
          "text": [
            "5..4..3..2..1.. Play !!!\n",
            "=========================\n",
            "Batting Team:Rangpur Riders\n",
            "Bowling Team:Cumilla Victorians\n",
            "Total Runs:10 Wickets:0 Overs:1\n",
            "=========================\n",
            "Warning! Cannot add 5 Over/s(5 Over Match)\n",
            "=========================\n",
            "Batting Team:Rangpur Riders\n",
            "Bowling Team:Cumilla Victorians\n",
            "Total Runs:10 Wickets:1 Overs:1\n"
          ]
        }
      ]
    },
    {
      "cell_type": "code",
      "source": [
        "#task-8\n",
        "class ParcelKoro:\n",
        "    def __init__(self,*details):\n",
        "        if len(details)==0:\n",
        "            self.name ='No name set'\n",
        "            self.product_weight = 0\n",
        "        elif len(details)==1:\n",
        "            self.name=details[0]\n",
        "            self.product_weight=0\n",
        "        elif len(details)==2:\n",
        "            self.name = details[0]\n",
        "            self.product_weight = details[1]\n",
        "        self.fee = 0\n",
        "    def calculateFee(self,location=None):\n",
        "        if self.product_weight!=0:\n",
        "            if location != None:\n",
        "                self.fee += (self.product_weight * 20) + 100\n",
        "            else:\n",
        "                self.fee += (self.product_weight * 20) + 50\n",
        "        else:\n",
        "            self.fee+=0\n",
        "\n",
        "    def printDetails(self):\n",
        "        print(f\"Customer Name: {self.name}\")\n",
        "        print(f\"Product: {self.product_weight}\")\n",
        "        print(f\"Total Fee: {self.fee}\")\n",
        "\n",
        "print(\"**********************\")\n",
        "p1 = ParcelKoro()\n",
        "p1.calculateFee()\n",
        "p1.printDetails()\n",
        "print(\"**********************\")\n",
        "p2 = ParcelKoro('Bob The Builder')\n",
        "p2.calculateFee()\n",
        "p2.printDetails()\n",
        "print(\"----------------------------\")\n",
        "p2.product_weight = 15\n",
        "p2.calculateFee()\n",
        "p2.printDetails()\n",
        "print(\"**********************\")\n",
        "p3 =ParcelKoro('Dora The Explorer', 10)\n",
        "p3.calculateFee('Dhanmondi')\n",
        "p3.printDetails()\n"
      ],
      "metadata": {
        "colab": {
          "base_uri": "https://localhost:8080/"
        },
        "id": "0zcAYHXA-y9r",
        "outputId": "d91f982a-78dd-4053-f96e-ade45db96639"
      },
      "execution_count": null,
      "outputs": [
        {
          "output_type": "stream",
          "name": "stdout",
          "text": [
            "**********************\n",
            "Customer Name: No name set\n",
            "Product: 0\n",
            "Total Fee: 0\n",
            "**********************\n",
            "Customer Name: Bob The Builder\n",
            "Product: 0\n",
            "Total Fee: 0\n",
            "----------------------------\n",
            "Customer Name: Bob The Builder\n",
            "Product: 15\n",
            "Total Fee: 350\n",
            "**********************\n",
            "Customer Name: Dora The Explorer\n",
            "Product: 10\n",
            "Total Fee: 300\n"
          ]
        }
      ]
    },
    {
      "cell_type": "code",
      "source": [
        "#9\n",
        "class Batsman:\n",
        "    def __init__(gg,*data):\n",
        "        if len(data)==2:\n",
        "            gg.name='New Batsman'\n",
        "            gg.run=data[0]\n",
        "            gg.ball=data[1]\n",
        "        elif len(data)==3:\n",
        "            gg.name=data[0]\n",
        "            gg.run=data[1]\n",
        "            gg.ball=data[2]\n",
        "    def setName(gg,n):\n",
        "        gg.name=n\n",
        "    def printCareerStatistics(gg):\n",
        "        print(f\"Name:{gg.name}\")\n",
        "        print(f\"Runs Scored:{gg.run},Balss Faced:{gg.ball}\")\n",
        "    def battingStrikeRate(gg):\n",
        "        k=gg.run/gg.ball\n",
        "        return  k*100\n",
        "\n",
        "b1 = Batsman(6101, 7380)\n",
        "b1.printCareerStatistics()\n",
        "print(\"============================\")\n",
        "b2 = Batsman(\"Liton Das\", 678, 773)\n",
        "b2.printCareerStatistics()\n",
        "print(\"----------------------------\")\n",
        "print(b2.battingStrikeRate())\n",
        "print(\"============================\")\n",
        "b1.setName(\"Shakib Al Hasan\")\n",
        "b1.printCareerStatistics()\n",
        "print(\"----------------------------\")\n",
        "print(b1.battingStrikeRate())"
      ],
      "metadata": {
        "colab": {
          "base_uri": "https://localhost:8080/"
        },
        "id": "ags71JwXHCun",
        "outputId": "40ba07f4-c622-4c49-971a-ce9782bc6562"
      },
      "execution_count": null,
      "outputs": [
        {
          "output_type": "stream",
          "name": "stdout",
          "text": [
            "Name:New Batsman\n",
            "Runs Scored:6101,Balss Faced:7380\n",
            "============================\n",
            "Name:Liton Das\n",
            "Runs Scored:678,Balss Faced:773\n",
            "----------------------------\n",
            "87.71021992238033\n",
            "============================\n",
            "Name:Shakib Al Hasan\n",
            "Runs Scored:6101,Balss Faced:7380\n",
            "----------------------------\n",
            "82.66937669376694\n"
          ]
        }
      ]
    },
    {
      "cell_type": "code",
      "source": [
        "#task-10\n",
        "class EPL_Team:\n",
        "    def __init__(self,team,slogan=None):\n",
        "        if slogan!=None:\n",
        "            self.team=team\n",
        "            self.slogan=slogan\n",
        "        else:\n",
        "            self.team=team\n",
        "            self.slogan='No Slogan'\n",
        "        self.title=0\n",
        "    def showClubInfo(self):\n",
        "        return (f\"Name:{self.team}\\nSong:{self.slogan}\\nTotal No of Tile:{self.title}\")\n",
        "    def increaseTitle(self):\n",
        "        self.title+=1\n",
        "    def changeSong(self,s):\n",
        "        self.slogan=s\n",
        "manu = EPL_Team('Manchester United', 'Glory Glory Man United')\n",
        "chelsea = EPL_Team('Chelsea')\n",
        "print('===================')\n",
        "print(manu.showClubInfo())\n",
        "print('##################')\n",
        "manu.increaseTitle()\n",
        "print(manu.showClubInfo())\n",
        "print('===================')\n",
        "print(chelsea.showClubInfo())\n",
        "chelsea.changeSong('Keep the blue flag flying high')\n",
        "print(chelsea.showClubInfo())\n"
      ],
      "metadata": {
        "colab": {
          "base_uri": "https://localhost:8080/"
        },
        "id": "aYw6hTF8HH8O",
        "outputId": "70328959-32f8-46a0-d72a-52b0dfbd1a4b"
      },
      "execution_count": null,
      "outputs": [
        {
          "output_type": "stream",
          "name": "stdout",
          "text": [
            "===================\n",
            "Name:Manchester United\n",
            "Song:Glory Glory Man United\n",
            "Total No of Tile:0\n",
            "##################\n",
            "Name:Manchester United\n",
            "Song:Glory Glory Man United\n",
            "Total No of Tile:1\n",
            "===================\n",
            "Name:Chelsea\n",
            "Song:No Slogan\n",
            "Total No of Tile:0\n",
            "Name:Chelsea\n",
            "Song:Keep the blue flag flying high\n",
            "Total No of Tile:0\n"
          ]
        }
      ]
    },
    {
      "cell_type": "code",
      "source": [
        "#11\n",
        "class Author:\n",
        "    def __init__(self,*list_name):\n",
        "        self.book_1 = ''\n",
        "        self.book_2 = ''\n",
        "        \n",
        "        self.book_3 = ''\n",
        "        if len(list_name)==0:\n",
        "            self.name='Default'\n",
        "        elif len(list_name)==1:\n",
        "            self.name =list_name[0]\n",
        "        elif len(list_name)==3:\n",
        "            self.name =list_name[0]\n",
        "            self.book_1 = list_name[1]\n",
        "            self.book_2 = list_name[2]\n",
        "    def changeName(self,n):\n",
        "        self.name=n\n",
        "    def addBooks(self,*book_list):\n",
        "        if len(book_list)==2:\n",
        "            self.book_1=book_list[0]\n",
        "            self.book_2=book_list[1]\n",
        "        elif len(book_list)==3:\n",
        "            self.book_1 = book_list[0]\n",
        "            self.book_2 = book_list[1]\n",
        "            self.book_3 = book_list[2]\n",
        "    def printDetails(self):\n",
        "        print('Author Name:', self.name)\n",
        "        print('--------')\n",
        "        print('List of Books:')\n",
        "        if self.book_3==None:\n",
        "            print(self.book_1)\n",
        "            print(self.book_2)\n",
        "        else:\n",
        "            print(self.book_1)\n",
        "            print(self.book_2)\n",
        "            print(self.book_3)\n",
        "auth1 = Author('Humayun Ahmed')\n",
        "auth1.addBooks('Deyal', 'Megher Opor Bari')\n",
        "auth1.printDetails()\n",
        "print('===================')\n",
        "auth2 = Author()\n",
        "print(auth2.name)\n",
        "auth2.changeName('Mario Puzo')\n",
        "auth2.addBooks('The Godfather', 'Omerta', 'The Sicilian')\n",
        "print('===================')\n",
        "auth2.printDetails()\n",
        "print('===================')\n",
        "auth3 = Author('Paolo Coelho', 'The Alchemist', 'The Fifth Mountain')\n",
        "auth3.printDetails()"
      ],
      "metadata": {
        "id": "rycz9HjDHIFt",
        "colab": {
          "base_uri": "https://localhost:8080/"
        },
        "outputId": "9917b01f-d7f7-4b56-ffc7-9dc31041577b"
      },
      "execution_count": null,
      "outputs": [
        {
          "output_type": "stream",
          "name": "stdout",
          "text": [
            "Author Name: Humayun Ahmed\n",
            "--------\n",
            "List of Books:\n",
            "Deyal\n",
            "Megher Opor Bari\n",
            "\n",
            "===================\n",
            "Default\n",
            "===================\n",
            "Author Name: Mario Puzo\n",
            "--------\n",
            "List of Books:\n",
            "The Godfather\n",
            "Omerta\n",
            "The Sicilian\n",
            "===================\n",
            "Author Name: Paolo Coelho\n",
            "--------\n",
            "List of Books:\n",
            "The Alchemist\n",
            "The Fifth Mountain\n",
            "\n"
          ]
        }
      ]
    },
    {
      "cell_type": "code",
      "source": [
        "#task-12\n",
        "class TaxiLagbe:\n",
        "    def __init__(self,taxi_number,loaction):\n",
        "        self.taxi_number=taxi_number\n",
        "        self.loaction=loaction\n",
        "        self.p=[]\n",
        "        self.money=0\n",
        "        \n",
        "    def addPassenger(self,*list):\n",
        "        if len(list)==1:\n",
        "            a=list[0]\n",
        "            b=a.split('_')\n",
        "            c=b[0]\n",
        "            d=int(b[1])\n",
        "            if len(self.p)<4:\n",
        "                self.p.append(c)\n",
        "                self.money+=d\n",
        "                print(f\"Dear {c}! Welcome to TaxiLagbe.\")\n",
        "            else:\n",
        "                print('Taxi Full! No more passengers can be added.')\n",
        "                \n",
        "        elif len(list)==2:\n",
        "            x=list[0]\n",
        "            y=list[1]\n",
        "            m = x.split('_')\n",
        "            n=y.split('_')\n",
        "            j,k=m[0],n[0]\n",
        "            h,g=int(m[1]),int(n[1])\n",
        "            print(f\"Dear {j}! Welcome to TaxiLagbe.\")\n",
        "            print(f\"Dear {k}! Welcome to TaxiLagbe.\")\n",
        "            self.p.append(j)\n",
        "            self.p.append(k)\n",
        "            self.money+=h\n",
        "            self.money+=g\n",
        "       \n",
        "    def printDetails(self):\n",
        "        print('Trip info for Taxi number:',self.taxi_number)\n",
        "        print(f\"This taxi can cover only {self.loaction} area.\")\n",
        "        c=0\n",
        "        for y in self.p:\n",
        "            c+=1\n",
        "        print('Total Passengers:',c)\n",
        "        if len(self.p)==4:\n",
        "            a=self.p\n",
        "            print(f\"{a[0]},{a[1]},{a[2]},{a[3]}\")\n",
        "        elif len(self.p)==2:\n",
        "            a=self.p\n",
        "            print(f\"{a[0]},{a[1]}\")\n",
        "        print(f'Total Collected fare:{self.money} taka')\n",
        "taxi1 = TaxiLagbe('1010-01', 'Dhaka')\n",
        "print('-------------------------------')\n",
        "taxi1.addPassenger('Walker_100', 'Wood_200')\n",
        "taxi1.addPassenger('Matt_100')\n",
        "taxi1.addPassenger('Wilson_105')\n",
        "print('-------------------------------')\n",
        "taxi1.printDetails()\n",
        "print('-------------------------------')\n",
        "taxi1.addPassenger('Karen_200')\n",
        "print('-------------------------------')\n",
        "taxi1.printDetails()\n",
        "print('-------------------------------')\n",
        "taxi2 = TaxiLagbe('1010-02', 'Khulna')\n",
        "taxi2.addPassenger('Ronald_115')\n",
        "taxi2.addPassenger('Parker_215')\n",
        "print('-------------------------------')\n",
        "taxi2.printDetails()"
      ],
      "metadata": {
        "id": "8CT0HXlWethw",
        "colab": {
          "base_uri": "https://localhost:8080/"
        },
        "outputId": "baff947b-d5cd-4237-a79b-96d479dcea2d"
      },
      "execution_count": null,
      "outputs": [
        {
          "output_type": "stream",
          "name": "stdout",
          "text": [
            "-------------------------------\n",
            "Dear Walker! Welcome to TaxiLagbe.\n",
            "Dear Wood! Welcome to TaxiLagbe.\n",
            "Dear Matt! Welcome to TaxiLagbe.\n",
            "Dear Wilson! Welcome to TaxiLagbe.\n",
            "-------------------------------\n",
            "Trip info for Taxi number: 1010-01\n",
            "This taxi can cover only Dhaka area.\n",
            "Total Passengers: 4\n",
            "Walker,Wood,Matt,Wilson\n",
            "Total Collected fare:505 taka\n",
            "-------------------------------\n",
            "Taxi Full! No more passengers can be added.\n",
            "-------------------------------\n",
            "Trip info for Taxi number: 1010-01\n",
            "This taxi can cover only Dhaka area.\n",
            "Total Passengers: 4\n",
            "Walker,Wood,Matt,Wilson\n",
            "Total Collected fare:505 taka\n",
            "-------------------------------\n",
            "Dear Ronald! Welcome to TaxiLagbe.\n",
            "Dear Parker! Welcome to TaxiLagbe.\n",
            "-------------------------------\n",
            "Trip info for Taxi number: 1010-02\n",
            "This taxi can cover only Khulna area.\n",
            "Total Passengers: 2\n",
            "Ronald,Parker\n",
            "Total Collected fare:330 taka\n"
          ]
        }
      ]
    },
    {
      "cell_type": "code",
      "source": [
        "#13\n",
        "class Account():\n",
        "    def __init__(self, name=None, balance=None):\n",
        "        self.name=''\n",
        "        self.balance=0.0\n",
        "        if name==None and balance==None:\n",
        "            self.name='Default Account'\n",
        "        elif name!=None and balance==None:\n",
        "            self.name =name\n",
        "        elif name!=None and balance!=None:\n",
        "            self.name=name\n",
        "            self.balance=balance\n",
        "    def details(self):\n",
        "        return (f\"{self.name}\\n{self.balance}\")\n",
        "    def withdraw(self,tk):\n",
        "        if self.balance-tk>3070:\n",
        "            self.balance-=tk\n",
        "            print('Withdraw successful! New balance is:', self.balance)\n",
        "        else:\n",
        "            print(\"Sorry, Withdraw unsuccessful! The account balance after deducting withdraw amount is equal to or less than minimum.\")\n",
        "a1 = Account()\n",
        "print(a1.details())\n",
        "print(\"------------------------\")\n",
        "a1.name = \"Oliver\"\n",
        "a1.balance = 10000.0\n",
        "print(a1.details())\n",
        "print(\"------------------------\")\n",
        "a2 = Account(\"Liam\")\n",
        "print(a2.details())\n",
        "print(\"------------------------\")\n",
        "a3 = Account(\"Noah\",400)\n",
        "print(a3.details())\n",
        "print(\"------------------------\")\n",
        "a1.withdraw(6930)\n",
        "print(\"------------------------\")\n",
        "a2.withdraw(600)\n",
        "print(\"------------------------\")\n",
        "a1.withdraw(6929)"
      ],
      "metadata": {
        "colab": {
          "base_uri": "https://localhost:8080/"
        },
        "id": "G1gIOoLHYIOi",
        "outputId": "68e371bd-a18d-4392-8137-faa89296e156"
      },
      "execution_count": null,
      "outputs": [
        {
          "output_type": "stream",
          "name": "stdout",
          "text": [
            "Default Account\n",
            "0.0\n",
            "------------------------\n",
            "Oliver\n",
            "10000.0\n",
            "------------------------\n",
            "Liam\n",
            "0.0\n",
            "------------------------\n",
            "Noah\n",
            "400\n",
            "------------------------\n",
            "Sorry, Withdraw unsuccessful! The account balance after deducting withdraw amount is equal to or less than minimum.\n",
            "------------------------\n",
            "Sorry, Withdraw unsuccessful! The account balance after deducting withdraw amount is equal to or less than minimum.\n",
            "------------------------\n",
            "Withdraw successful! New balance is: 3071.0\n"
          ]
        }
      ]
    },
    {
      "cell_type": "code",
      "source": [
        "#14\n",
        "class StudentDatabase:\n",
        "  def __init__(self,x,y):\n",
        "    self.name=x\n",
        "    self.id=y\n",
        "    self.a=''\n",
        "    self.grades={}\n",
        "  def calculateGPA(self,l1,a):\n",
        "    self.a=a\n",
        "    l2=[]\n",
        "    l3=[]\n",
        "    d1={}\n",
        "    sum=0\n",
        "    avg=0\n",
        "    for i in l1:\n",
        "      p=i.split(':')\n",
        "      l2.append(p[0])\n",
        "      l3.append(float(p[1]))\n",
        "    for i in l3:\n",
        "      sum+=i\n",
        "      avg=sum/(len(l3))\n",
        "      avg=float(\"{:.2f}\".format(avg))\n",
        "    r=tuple(l2)\n",
        "    d1[r]=avg\n",
        "    self.grades[a]=d1\n",
        "  def printDetails(self):\n",
        "    print('Name:',self.name)\n",
        "    print('ID:',self.id)\n",
        "    l1=[]\n",
        "    l2=[]\n",
        "    l3=[]\n",
        "    p=self.grades.keys()\n",
        "    q=self.grades.values()\n",
        "    for i in p:\n",
        "      l2.append(i)\n",
        "    for i in q:\n",
        "      for j in i.keys():\n",
        "        l1.append(j)\n",
        "      for j in i.values():\n",
        "        l3.append(j)\n",
        "    if len(self.grades)==2:\n",
        "      print(f'Courses taken in {l2[0]}:')\n",
        "      for i in l1[0]:\n",
        "        print(i)\n",
        "      print('GPA:',l3[0])\n",
        "      print(f'Courses taken in {l2[1]}:')\n",
        "      for i in l1[1]:\n",
        "        print(i)\n",
        "      print('GPA:',l3[1])\n",
        "    elif len(self.grades)==1:\n",
        "      print(f'Courses taken in {l2[0]}:')\n",
        "      for i in l1[0]:\n",
        "        print(i)\n",
        "      print('GPA:',l3[0])\n",
        "s1 = StudentDatabase('Pietro', '10101222')\n",
        "s1.calculateGPA(['CSE230: 4.0', 'CSE220: 4.0', 'MAT110: 4.0'],\n",
        "'Summer2020')\n",
        "s1.calculateGPA(['CSE250: 3.7', 'CSE330: 4.0'], 'Summer2021')\n",
        "print(f'Grades for {s1.name}\\n{s1.grades}')\n",
        "print('------------------------------------------------------')\n",
        "s1.printDetails()\n",
        "s2 = StudentDatabase('Wanda', '10103332')\n",
        "s2.calculateGPA(['CSE111: 3.7', 'CSE260: 3.7', 'ENG101: 4.0'],\n",
        "'Summer2022')\n",
        "print('------------------------------------------------------')\n",
        "print(f'Grades for {s2.name}\\n{s2.grades}')\n",
        "print('------------------------------------------------------')\n",
        "s2.printDetails()"
      ],
      "metadata": {
        "id": "cKEePaGdvFU_",
        "colab": {
          "base_uri": "https://localhost:8080/"
        },
        "outputId": "c0990390-11c5-43b7-9095-047765df3b49"
      },
      "execution_count": null,
      "outputs": [
        {
          "output_type": "stream",
          "name": "stdout",
          "text": [
            "Grades for Pietro\n",
            "{'Summer2020': {('CSE230', 'CSE220', 'MAT110'): 4.0}, 'Summer2021': {('CSE250', 'CSE330'): 3.85}}\n",
            "------------------------------------------------------\n",
            "Name: Pietro\n",
            "ID: 10101222\n",
            "Courses taken in Summer2020:\n",
            "CSE230\n",
            "CSE220\n",
            "MAT110\n",
            "GPA: 4.0\n",
            "Courses taken in Summer2021:\n",
            "CSE250\n",
            "CSE330\n",
            "GPA: 3.85\n",
            "------------------------------------------------------\n",
            "Grades for Wanda\n",
            "{'Summer2022': {('CSE111', 'CSE260', 'ENG101'): 3.8}}\n",
            "------------------------------------------------------\n",
            "Name: Wanda\n",
            "ID: 10103332\n",
            "Courses taken in Summer2022:\n",
            "CSE111\n",
            "CSE260\n",
            "ENG101\n",
            "GPA: 3.8\n"
          ]
        }
      ]
    },
    {
      "cell_type": "markdown",
      "source": [
        "Task-21\n"
      ],
      "metadata": {
        "id": "rrx1Os53qfgb"
      }
    },
    {
      "cell_type": "code",
      "source": [
        "class Student:\n",
        "    def __init__(self,name,id,course):\n",
        "        self.name=name\n",
        "        self.id=id\n",
        "        self.course=course\n",
        "    def details(self):\n",
        "        return (f\"Name:{self.name}\\nID:{self.id}\\nDepartment:{self.course}\")\n",
        "    def advise(self,*listx):\n",
        "        k=[]\n",
        "        for x in listx:\n",
        "            k.append(x)\n",
        "        a=len(k)\n",
        "        g=a*3\n",
        "        print(f\"{self.name} you have taken {g} Credits.\")\n",
        "        print(f\"List of course:{','.join(k)}\")\n",
        "        if a==3:\n",
        "            print('status:OK')\n",
        "        elif a>3:\n",
        "            print(f\"Status:you have to drop at least {a-4} course\")\n",
        "        elif a<3:\n",
        "            print(f\"Status: You have to take at least {3-a} course\")\n",
        "\n",
        "\n",
        "s1 = Student(\"Alice\",\"20103012\",\"CSE\")\n",
        "s2 = Student(\"Bob\", \"18301254\",\"EEE\")\n",
        "s3 = Student(\"Carol\", \"17101238\",\"CSE\")\n",
        "print(\"##########################\")\n",
        "print(s1.details())\n",
        "print(\"##########################\")\n",
        "print(s2.details())\n",
        "print(\"##########################\")\n",
        "s1.advise(\"CSE110\",\"MAT110\",\"PHY111\")\n",
        "print(\"##########################\")\n",
        "s2.advise(\"BUS101\", \"MAT120\")\n",
        "print(\"##########################\")\n",
        "s3.advise(\"MAT110\", \"PHY111\", \"ENG102\",\"CSE111\", \"CSE230\")\n",
        "\n"
      ],
      "metadata": {
        "id": "C9eN4HZLqh6R",
        "outputId": "24d729c3-a3e5-41b9-a360-a8b1bb08446a",
        "colab": {
          "base_uri": "https://localhost:8080/"
        }
      },
      "execution_count": null,
      "outputs": [
        {
          "output_type": "stream",
          "name": "stdout",
          "text": [
            "##########################\n",
            "Name:Alice\n",
            "ID:20103012\n",
            "Department:CSE\n",
            "##########################\n",
            "Name:Bob\n",
            "ID:18301254\n",
            "Department:EEE\n",
            "##########################\n",
            "Alice you have taken 9 Credits.\n",
            "List of course:CSE110,MAT110,PHY111\n",
            "status:OK\n",
            "##########################\n",
            "Bob you have taken 6 Credits.\n",
            "List of course:BUS101,MAT120\n",
            "Status: You have to take at least 1 course\n",
            "##########################\n",
            "Carol you have taken 15 Credits.\n",
            "List of course:MAT110,PHY111,ENG102,CSE111,CSE230\n",
            "Status:you have to drop at least 1 course\n"
          ]
        }
      ]
    }
  ]
}