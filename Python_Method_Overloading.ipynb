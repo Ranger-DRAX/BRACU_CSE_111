{
  "nbformat": 4,
  "nbformat_minor": 0,
  "metadata": {
    "colab": {
      "provenance": []
    },
    "kernelspec": {
      "name": "python3",
      "display_name": "Python 3"
    },
    "language_info": {
      "name": "python"
    }
  },
  "cells": [
    {
      "cell_type": "markdown",
      "source": [
        "# **Method Overloading using Default and Non-Default params**"
      ],
      "metadata": {
        "id": "zHhFCOQpcPWr"
      }
    },
    {
      "cell_type": "code",
      "execution_count": null,
      "metadata": {
        "id": "-xmNHwQXWnqh"
      },
      "outputs": [],
      "source": [
        "class Calculator:\n",
        "  def __init__(self):\n",
        "    pass\n",
        "  \n",
        "  def add(self, *nums):\n",
        "    sum = 0\n",
        "    for num in range(len(nums)):\n",
        "      sum += nums[num]\n",
        "    \n",
        "    return sum\n"
      ]
    },
    {
      "cell_type": "code",
      "source": [
        "calc1 = Calculator()\n",
        "result1 = calc1.add(1)\n",
        "result2 = calc1.add(1,2)\n",
        "result3 = calc1.add(1,2,3)\n",
        "result4 = calc1.add(1,2,3,4)\n",
        "result4 = calc1.add(1,2,3,4,5,6,844654,7865465465684646598765465464)\n",
        "print(result1, result2, result3,result4, sep=\"------\")"
      ],
      "metadata": {
        "colab": {
          "base_uri": "https://localhost:8080/"
        },
        "id": "s5kTbJ3od6zd",
        "outputId": "3a6c6b60-ff79-4c3f-de34-0e543bcf56eb"
      },
      "execution_count": null,
      "outputs": [
        {
          "output_type": "stream",
          "name": "stdout",
          "text": [
            "1------3------6------7865465465684646598766310139\n"
          ]
        }
      ]
    },
    {
      "cell_type": "markdown",
      "source": [
        "# **Method Overloading using Multipledispatch**"
      ],
      "metadata": {
        "id": "w-eKK7PSxDrj"
      }
    },
    {
      "cell_type": "code",
      "source": [
        "!pip install multipledispatch"
      ],
      "metadata": {
        "colab": {
          "base_uri": "https://localhost:8080/"
        },
        "id": "0ZueN6wyq4KX",
        "outputId": "e3e15660-d31b-48fb-8950-d82d2ca7f969"
      },
      "execution_count": null,
      "outputs": [
        {
          "output_type": "stream",
          "name": "stdout",
          "text": [
            "Looking in indexes: https://pypi.org/simple, https://us-python.pkg.dev/colab-wheels/public/simple/\n",
            "Requirement already satisfied: multipledispatch in /usr/local/lib/python3.7/dist-packages (0.6.0)\n",
            "Requirement already satisfied: six in /usr/local/lib/python3.7/dist-packages (from multipledispatch) (1.15.0)\n"
          ]
        }
      ]
    },
    {
      "cell_type": "code",
      "source": [
        "from multipledispatch import dispatch\n",
        "\n",
        "\n",
        "class MultiCalculator:\n",
        "  def __init__(self):\n",
        "    pass\n",
        "\n",
        "  @dispatch(int, int)\n",
        "  def add(self, x, y):\n",
        "    return x + y\n",
        "\n",
        "  @dispatch(int, int, int)\n",
        "  def add(self, x,y,z):\n",
        "    return x + y + z\n",
        "\n",
        "  @dispatch(int, str)\n",
        "  def add(self, firstParam, secondParam):\n",
        "    return f\"Invalid Addition\"\n",
        "\n",
        "  @dispatch(str, str)\n",
        "  def add(self, firstParam, secondParam):\n",
        "    return firstParam + secondParam\n",
        "\n",
        "  @dispatch(int)\n",
        "  def add(self, num1):\n",
        "    return num1\n",
        "\n",
        "  "
      ],
      "metadata": {
        "id": "yP6Krf8Uic-U"
      },
      "execution_count": null,
      "outputs": []
    },
    {
      "cell_type": "code",
      "source": [
        "calc1 = MultiCalculator()\n",
        "\n",
        "result1 = calc1.add(1011)\n",
        "result2 = calc1.add(1,2)\n",
        "result3 = calc1.add(1,2,3)\n",
        "resultStr = calc1.add(\"B\", \"A\")\n",
        "resultintStr = calc1.add(1, \"A\")\n",
        "\n",
        "print(result1, result2, result3, resultStr, resultintStr, sep=\"------\")"
      ],
      "metadata": {
        "colab": {
          "base_uri": "https://localhost:8080/"
        },
        "id": "nYxiiWDbt0K4",
        "outputId": "d05f5921-60c5-4f54-f565-44a11e98687c"
      },
      "execution_count": null,
      "outputs": [
        {
          "output_type": "stream",
          "name": "stdout",
          "text": [
            "1011------3------6------BA------Invalid Addition\n"
          ]
        }
      ]
    }
  ]
}